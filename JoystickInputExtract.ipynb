{
 "cells": [
  {
   "cell_type": "code",
   "execution_count": 47,
   "id": "2509e53a",
   "metadata": {},
   "outputs": [],
   "source": [
    "import os\n",
    "import numpy as np\n",
    "import json\n",
    "import torch"
   ]
  },
  {
   "cell_type": "code",
   "execution_count": 66,
   "id": "bdb82324",
   "metadata": {},
   "outputs": [
    {
     "name": "stdout",
     "output_type": "stream",
     "text": [
      "/home/vml/deepmm_ws/ASE\n"
     ]
    }
   ],
   "source": [
    "path = '/ase/poselib/data/unity/joystick_input/'\n",
    "txt_name = 'joystick1.txt'\n",
    "np_name = os.getcwd() + path + 'joystick_input1'\n",
    "print(os.getcwd())"
   ]
  },
  {
   "cell_type": "code",
   "execution_count": 67,
   "id": "ff779b74",
   "metadata": {},
   "outputs": [],
   "source": [
    "def from_txt_to_npy(path, txt_name, np_name):\n",
    "    joystick_file = open(path + txt_name)\n",
    "    joystick_json = json.load(joystick_file)\n",
    "\n",
    "    print(joystick_json.keys())\n",
    "    # parse motion info\n",
    "    frameCount = joystick_json['frameCount']\n",
    "    joystick = joystick_json['joystick']\n",
    "    print(len(joystick))\n",
    "    \n",
    "    joystick_input = torch.zeros((len(joystick), 2))\n",
    "    \n",
    "    for i in range(len(joystick)):\n",
    "        x, y = joystick[i]['x'], joystick[i]['y']\n",
    "        joystick_input[0] = torch.tensor([x, y])\n",
    "\n",
    "    print(\"length of joystick input: \", joystick_input.shape)\n",
    "    \n",
    "    torch.save(joystick_input, np_name)"
   ]
  },
  {
   "cell_type": "code",
   "execution_count": 68,
   "id": "c4ae4acb",
   "metadata": {},
   "outputs": [
    {
     "name": "stdout",
     "output_type": "stream",
     "text": [
      "dict_keys(['frameCount', 'rcontroller_local_pos', 'lcontroller_local_pos', 'headset_local_pos', 'rcontroller_local_rot', 'lcontroller_local_rot', 'headset_local_rot', 'joystick'])\n",
      "289\n",
      "length of joystick input:  torch.Size([289, 2])\n"
     ]
    }
   ],
   "source": [
    "from_txt_to_npy(os.getcwd() + path, txt_name, np_name)"
   ]
  },
  {
   "cell_type": "code",
   "execution_count": 73,
   "id": "32d9c869",
   "metadata": {},
   "outputs": [
    {
     "data": {
      "text/plain": [
       "[0, 1, 2, 3]"
      ]
     },
     "execution_count": 73,
     "metadata": {},
     "output_type": "execute_result"
    }
   ],
   "source": [
    "[i for i in range(len([0, 1, 2, 3]))]"
   ]
  },
  {
   "cell_type": "code",
   "execution_count": null,
   "id": "b6aebfc6",
   "metadata": {},
   "outputs": [],
   "source": [
    "[0, 1, 2, 3]"
   ]
  }
 ],
 "metadata": {
  "kernelspec": {
   "display_name": "Python 3 (ipykernel)",
   "language": "python",
   "name": "python3"
  },
  "language_info": {
   "codemirror_mode": {
    "name": "ipython",
    "version": 3
   },
   "file_extension": ".py",
   "mimetype": "text/x-python",
   "name": "python",
   "nbconvert_exporter": "python",
   "pygments_lexer": "ipython3",
   "version": "3.11.3"
  }
 },
 "nbformat": 4,
 "nbformat_minor": 5
}
