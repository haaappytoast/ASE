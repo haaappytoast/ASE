{
 "cells": [
  {
   "cell_type": "code",
   "execution_count": 1,
   "id": "3afef6c1",
   "metadata": {},
   "outputs": [],
   "source": [
    "import os\n",
    "import numpy as np"
   ]
  },
  {
   "cell_type": "code",
   "execution_count": 19,
   "id": "ab1d619a",
   "metadata": {},
   "outputs": [],
   "source": [
    "from ase.poselib.poselib.skeleton.skeleton3d import SkeletonTree\n",
    "\n",
    "path = \"/home/vml/deepmm_ws/ASE/ase/poselib/data/\"\n",
    "\n",
    "# cmu npy file\n",
    "cmu_npy_file = \"cmu_tpose.npy\"\n",
    "cmu_t_pose = np.load(path + cmu_npy_file, allow_pickle=True).item()\n",
    "\n",
    "# amp npy file\n",
    "amp_npy_file = \"amp_humanoid_tpose.npy\"\n",
    "amp_t_pose = np.load(path + amp_npy_file, allow_pickle=True).item()\n",
    "\n",
    "# sfu npy file\n",
    "sfu_npy_file = \"sfu_tpose.npy\"\n",
    "sfu_t_pose = np.load(path + sfu_npy_file, allow_pickle=True).item()\n"
   ]
  },
  {
   "cell_type": "code",
   "execution_count": 20,
   "id": "43dbec05",
   "metadata": {},
   "outputs": [
    {
     "name": "stdout",
     "output_type": "stream",
     "text": [
      "odict_keys(['rotation', 'root_translation', 'skeleton_tree', 'is_local', '__name__'])\n"
     ]
    }
   ],
   "source": [
    "print(cmu_t_pose.keys())"
   ]
  },
  {
   "cell_type": "code",
   "execution_count": 24,
   "id": "6016ddaa",
   "metadata": {},
   "outputs": [
    {
     "name": "stdout",
     "output_type": "stream",
     "text": [
      "cmu:  (38, 4)\n",
      "cmu:  (3,)\n",
      "amp:  (15, 4)\n",
      "amp:  (3,)\n",
      "sfu:  (30, 4)\n",
      "sfu:  (3,)\n"
     ]
    }
   ],
   "source": [
    "# cmu npy file\n",
    "print(\"cmu: \", cmu_t_pose['rotation']['arr'].shape)\n",
    "print(\"cmu: \", cmu_t_pose['root_translation']['arr'].shape)\n",
    "\n",
    "# amp npy file\n",
    "print(\"amp: \", amp_t_pose['rotation']['arr'].shape)\n",
    "print(\"amp: \", amp_t_pose['root_translation']['arr'].shape)\n",
    "\n",
    "# sfu npy file\n",
    "print(\"sfu: \", sfu_t_pose['rotation']['arr'].shape)\n",
    "print(\"sfu: \", sfu_t_pose['root_translation']['arr'].shape)"
   ]
  },
  {
   "cell_type": "code",
   "execution_count": null,
   "id": "00675a27",
   "metadata": {},
   "outputs": [],
   "source": []
  }
 ],
 "metadata": {
  "kernelspec": {
   "display_name": "Python 3 (ipykernel)",
   "language": "python",
   "name": "python3"
  },
  "language_info": {
   "codemirror_mode": {
    "name": "ipython",
    "version": 3
   },
   "file_extension": ".py",
   "mimetype": "text/x-python",
   "name": "python",
   "nbconvert_exporter": "python",
   "pygments_lexer": "ipython3",
   "version": "3.7.12"
  }
 },
 "nbformat": 4,
 "nbformat_minor": 5
}
