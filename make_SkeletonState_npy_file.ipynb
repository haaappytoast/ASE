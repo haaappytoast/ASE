{
 "cells": [
  {
   "cell_type": "code",
   "execution_count": 3,
   "id": "3afef6c1",
   "metadata": {},
   "outputs": [],
   "source": [
    "import os\n",
    "import numpy as np"
   ]
  },
  {
   "cell_type": "code",
   "execution_count": 4,
   "id": "ab1d619a",
   "metadata": {},
   "outputs": [],
   "source": [
    "from ase.poselib.poselib.skeleton.skeleton3d import SkeletonTree\n",
    "\n",
    "path = \"/home/vml/deepmm_ws/ASE/ase/poselib/data/\"\n",
    "\n",
    "# cmu npy file\n",
    "cmu_npy_file = \"cmu_tpose.npy\"\n",
    "cmu_t_pose = np.load(path + cmu_npy_file, allow_pickle=True).item()\n",
    "\n",
    "# amp npy file\n",
    "amp_npy_file = \"amp_humanoid_tpose.npy\"\n",
    "amp_t_pose = np.load(path + amp_npy_file, allow_pickle=True).item()\n",
    "\n",
    "# sfu npy file\n",
    "sfu_npy_file = \"sfu_tpose.npy\"\n",
    "sfu_t_pose = np.load(path + sfu_npy_file, allow_pickle=True).item()"
   ]
  },
  {
   "cell_type": "code",
   "execution_count": 5,
   "id": "87cd04c5",
   "metadata": {},
   "outputs": [
    {
     "name": "stdout",
     "output_type": "stream",
     "text": [
      "odict_keys(['rotation', 'root_translation', 'skeleton_tree', 'is_local', '__name__'])\n"
     ]
    }
   ],
   "source": [
    "print(amp_t_pose.keys())"
   ]
  },
  {
   "cell_type": "code",
   "execution_count": 6,
   "id": "cb97360d",
   "metadata": {},
   "outputs": [
    {
     "name": "stdout",
     "output_type": "stream",
     "text": [
      "OrderedDict([('node_names', ['pelvis', 'torso', 'head', 'right_upper_arm', 'right_lower_arm', 'right_hand', 'left_upper_arm', 'left_lower_arm', 'left_hand', 'right_thigh', 'right_shin', 'right_foot', 'left_thigh', 'left_shin', 'left_foot']), ('parent_indices', {'arr': array([-1,  0,  1,  1,  3,  4,  1,  6,  7,  0,  9, 10,  0, 12, 13]), 'context': {'dtype': 'int64'}}), ('local_translation', {'arr': array([[ 0.      ,  0.      ,  1.      ],\n",
      "       [ 0.      ,  0.      ,  0.236151],\n",
      "       [ 0.      ,  0.      ,  0.223894],\n",
      "       [-0.02405 , -0.18311 ,  0.2435  ],\n",
      "       [ 0.      ,  0.      , -0.274788],\n",
      "       [ 0.      ,  0.      , -0.258947],\n",
      "       [-0.02405 ,  0.18311 ,  0.2435  ],\n",
      "       [ 0.      ,  0.      , -0.274788],\n",
      "       [ 0.      ,  0.      , -0.258947],\n",
      "       [ 0.      , -0.084887,  0.      ],\n",
      "       [ 0.      ,  0.      , -0.421546],\n",
      "       [ 0.      ,  0.      , -0.40987 ],\n",
      "       [ 0.      ,  0.084887,  0.      ],\n",
      "       [ 0.      ,  0.      , -0.421546],\n",
      "       [ 0.      ,  0.      , -0.40987 ]], dtype=float32), 'context': {'dtype': 'float32'}})])\n"
     ]
    }
   ],
   "source": [
    "print(amp_t_pose['skeleton_tree'])"
   ]
  },
  {
   "cell_type": "code",
   "execution_count": 23,
   "id": "6016ddaa",
   "metadata": {},
   "outputs": [
    {
     "name": "stdout",
     "output_type": "stream",
     "text": [
      "cmu:  (38, 4)\n",
      "cmu:  (3,)\n",
      "amp:  (15, 4)\n",
      "amp:  (3,)\n",
      "sfu:  (30, 4)\n",
      "sfu:  (3,)\n"
     ]
    }
   ],
   "source": [
    "# cmu npy file\n",
    "print(\"cmu: \", cmu_t_pose['rotation']['arr'].shape)\n",
    "print(\"cmu: \", cmu_t_pose['root_translation']['arr'].shape)\n",
    "\n",
    "# amp npy file\n",
    "print(\"amp: \", amp_t_pose['rotation']['arr'].shape)\n",
    "print(\"amp: \", amp_t_pose['root_translation']['arr'].shape)\n",
    "\n",
    "# sfu npy file\n",
    "print(\"sfu: \", sfu_t_pose['rotation']['arr'].shape)\n",
    "print(\"sfu: \", sfu_t_pose['root_translation']['arr'].shape)\n"
   ]
  },
  {
   "cell_type": "code",
   "execution_count": 5,
   "id": "7b1764e6",
   "metadata": {},
   "outputs": [],
   "source": [
    "import os\n",
    "import numpy as np\n",
    "from ase.poselib.poselib.skeleton.skeleton3d import SkeletonTree\n",
    "\n",
    "path = \"/home/vml/deepmm_ws/ASE/ase/poselib/data/\"\n",
    "# ybot npy file\n",
    "ybot_npy_file = \"/personal/ybot@T-Pose.npy\"\n",
    "ybot_pose = np.load(path + ybot_npy_file, allow_pickle=True).item()"
   ]
  },
  {
   "cell_type": "code",
   "execution_count": 7,
   "id": "43dbec05",
   "metadata": {},
   "outputs": [
    {
     "name": "stdout",
     "output_type": "stream",
     "text": [
      "odict_keys(['rotation', 'root_translation', 'global_velocity', 'global_angular_velocity', 'skeleton_tree', 'is_local', 'fps', '__name__'])\n"
     ]
    }
   ],
   "source": [
    "#print(amp_t_pose.keys())\n",
    "print(ybot_pose.keys())"
   ]
  },
  {
   "cell_type": "code",
   "execution_count": 8,
   "id": "326a3c01",
   "metadata": {},
   "outputs": [
    {
     "name": "stdout",
     "output_type": "stream",
     "text": [
      "(67, 4)\n",
      "dict_keys(['arr', 'context'])\n",
      "dict_keys(['arr', 'context'])\n",
      "odict_keys(['node_names', 'parent_indices', 'local_translation'])\n"
     ]
    }
   ],
   "source": [
    "print(ybot_pose['rotation']['arr'][0].shape)\n",
    "print(ybot_pose['rotation'].keys())         # dict_keys(['arr', 'context'])\n",
    "print(ybot_pose['root_translation'].keys()) # dict_keys(['arr', 'context'])\n",
    "print(ybot_pose['skeleton_tree'].keys())    # odict_keys(['node_names', 'parent_indices', 'local_translation'])\n",
    "#print(ybot_pose['is_local'].keys())         # bool"
   ]
  },
  {
   "cell_type": "code",
   "execution_count": 11,
   "id": "da42d799",
   "metadata": {},
   "outputs": [
    {
     "name": "stdout",
     "output_type": "stream",
     "text": [
      "(67, 4)\n",
      "(3,)\n",
      "SkeletonMotion\n"
     ]
    }
   ],
   "source": [
    "print(ybot_pose['rotation']['arr'][0].shape)\n",
    "print(ybot_pose['root_translation']['arr'][0].shape) # dict_keys(['arr', 'context'])\n",
    "print(ybot_pose['__name__'])\n",
    "#print(amp_t_pose['root_translation']['arr'].shape) # dict_keys(['arr', 'context'])\n",
    "#print(amp_t_pose['__name__'])"
   ]
  },
  {
   "cell_type": "markdown",
   "id": "843158d0",
   "metadata": {},
   "source": [
    "### Make SkeletonState(tpose npy file) with SkeletonMotion"
   ]
  },
  {
   "cell_type": "code",
   "execution_count": 12,
   "id": "5bf07622",
   "metadata": {},
   "outputs": [],
   "source": [
    "import collections\n",
    "ybot_tpose = collections.OrderedDict()"
   ]
  },
  {
   "cell_type": "code",
   "execution_count": 13,
   "id": "d2809a96",
   "metadata": {},
   "outputs": [],
   "source": [
    "ybot_tpose['rotation'] = {'arr': ybot_pose['rotation']['arr'][0], \\\n",
    "                          'context' : ybot_pose['rotation']['context']}\n",
    "ybot_tpose['root_translation'] = {'arr': ybot_pose['root_translation']['arr'][0], \\\n",
    "                                  'context' : ybot_pose['root_translation']['context']}\n",
    "\n",
    "ybot_tpose['skeleton_tree'] = ybot_pose['skeleton_tree']\n",
    "ybot_tpose['is_local'] = ybot_pose['is_local']\n",
    "ybot_tpose['__name__'] = 'SkeletonState'\n"
   ]
  },
  {
   "cell_type": "code",
   "execution_count": 14,
   "id": "c6717d71",
   "metadata": {},
   "outputs": [
    {
     "name": "stdout",
     "output_type": "stream",
     "text": [
      "SkeletonState\n",
      "odict_keys(['rotation', 'root_translation', 'skeleton_tree', 'is_local', '__name__'])\n"
     ]
    }
   ],
   "source": [
    "print(ybot_tpose['__name__'])\n",
    "print(ybot_tpose.keys())"
   ]
  },
  {
   "cell_type": "code",
   "execution_count": 15,
   "id": "aeefaf59",
   "metadata": {},
   "outputs": [],
   "source": [
    "path = \"/home/vml/deepmm_ws/ASE/ase/poselib/data/\"\n",
    "np.save(path+\"ybot_tpose\", ybot_tpose)"
   ]
  },
  {
   "cell_type": "markdown",
   "id": "2ff54994",
   "metadata": {},
   "source": [
    "'Hips', \n",
    "'Spine', 'Chest', 'UpperChest', \n",
    "'Neck', 'Head', \n",
    "'Right_Eye', 'Left_Eye', 'Jaw', 'Neck_Twist_A', \n",
    "\n",
    "'Left_Shoulder', 'Left_UpperArm', 'Left_LowerArm', 'Left_Hand', \n",
    "\n",
    "'Left_PinkyProximal', 'Left_PinkyIntermediate', 'Left_PinkyDistal', 'Left_PinkyDistalEnd', 'Left_RingProximal', 'Left_RingIntermediate', 'Left_RingDistal', 'Left_RingDistalEnd', 'Left_MiddleProximal', 'Left_MiddleIntermediate', 'Left_MiddleDistal', 'Left_MiddleDistalEnd', 'Left_IndexProximal', 'Left_IndexIntermediate', 'Left_IndexDistal', 'Left_IndexDistalEnd', 'Left_ThumbProximal', 'Left_ThumbIntermediate', 'Left_ThumbDistal', 'Left_ThumbDistalEnd', 'Left_PinkyProximalDef', 'Left_RingProximalDef', 'Left_MiddleProximalDef', 'Left_IndexProximalDef', 'Left_ThumbIntermediateDef', 'Left_LowerArmEnd', \n",
    "\n",
    "'Right_Shoulder', 'Right_UpperArm', 'Right_LowerArm', 'Right_Hand', \n",
    "\n",
    "'Right_PinkyProximal', 'Right_PinkyIntermediate', 'Right_PinkyDistal', 'Right_PinkyDistalEnd', 'Right_RingProximal', 'Right_RingIntermediate', 'Right_RingDistal', 'Right_RingDistalEnd', 'Right_MiddleProximal', 'Right_MiddleIntermediate', 'Right_MiddleDistal', 'Right_MiddleDistalEnd', 'Right_IndexProximal', 'Right_IndexIntermediate', 'Right_IndexDistal', 'Right_IndexDistalEnd', 'Right_ThumbProximal', 'Right_ThumbIntermediate', 'Right_ThumbDistal', 'Right_ThumbDistalEnd', 'Right_PinkyProximalDef', 'Right_RingProximalDef', 'Right_MiddleProximalDef', 'Right_IndexProximalDef', 'Right_ThumbIntermediateDef', 'Right_LowerArmEnd', \n",
    "\n",
    "'Left_UpperLeg', 'Left_LowerLeg', 'Left_Foot', 'Left_Toes', 'Left_ToesEnd', \n",
    "\n",
    "'Right_UpperLeg', 'Right_LowerLeg', 'Right_Foot', 'Right_Toes', 'Right_ToesEnd'"
   ]
  },
  {
   "cell_type": "code",
   "execution_count": 1,
   "id": "797ce1d5",
   "metadata": {},
   "outputs": [
    {
     "data": {
      "text/plain": [
       "\"\\nOrderedDict([('rotation', {'arr': array([[ 0.       ,  0.       ,  0.       ,  1.       ],\\n       [ 0.       ,  0.       ,  0.       ,  1.       ],\\n       [ 0.       ,  0.       ,  0.       ,  1.       ],\\n       [-0.7071068,  0.       ,  0.       ,  0.7071068],\\n       [ 0.       ,  0.       ,  0.       ,  1.       ],\\n       [ 0.       ,  0.       ,  0.       ,  1.       ],\\n       [ 0.7071068,  0.       ,  0.       ,  0.7071068],\\n       [ 0.       ,  0.       ,  0.       ,  1.       ],\\n       [ 0.       ,  0.       ,  0.       ,  1.       ],\\n       [ 0.       ,  0.       ,  0.       ,  1.       ],\\n       [ 0.       ,  0.       ,  0.       ,  1.       ],\\n       [ 0.       ,  0.       ,  0.       ,  1.       ],\\n       [ 0.       ,  0.       ,  0.       ,  1.       ],\\n       [ 0.       ,  0.       ,  0.       ,  1.       ],\\n       [ 0.       ,  0.       ,  0.       ,  1.       ]], dtype=float32), \\n    'context': {'dtype': 'float32'}}), \\n    ('root_translation', {'arr': array([0. , 0. , 0.9], dtype=float32), 'context': {'dtype': 'float32'}}), \\n       ('skeleton_tree', OrderedDict([('node_names', ['pelvis', 'torso', 'head', 'right_upper_arm', 'right_lower_arm', 'right_hand', 'left_upper_arm', 'left_lower_arm', 'left_hand', 'right_thigh', 'right_shin', 'right_foot', 'left_thigh', 'left_shin', 'left_foot']), \\n       ('parent_indices', {'arr': array([-1,  0,  1,  1,  3,  4,  1,  6,  7,  0,  9, 10,  0, 12, 13]), \\n       'context': {'dtype': 'int64'}}), \\n       ('local_translation', {'arr': array([[ 0.      ,  0.      ,  1.      ],\\n       [ 0.      ,  0.      ,  0.236151],\\n       [ 0.      ,  0.      ,  0.223894],\\n       [-0.02405 , -0.18311 ,  0.2435  ],\\n       [ 0.      ,  0.      , -0.274788],\\n       [ 0.      ,  0.      , -0.258947],\\n       [-0.02405 ,  0.18311 ,  0.2435  ],\\n       [ 0.      ,  0.      , -0.274788],\\n       [ 0.      ,  0.      , -0.258947],\\n       [ 0.      , -0.084887,  0.      ],\\n       [ 0.      ,  0.      , -0.421546],\\n       [ 0.      ,  0.      , -0.40987 ],\\n       [ 0.      ,  0.084887,  0.      ],\\n       [ 0.      ,  0.      , -0.421546],\\n       [ 0.      ,  0.      , -0.40987 ]], dtype=float32), 'context': {'dtype': 'float32'}})])), ('is_local', True), ('__name__', 'SkeletonState')])\\n2023-08-08 11:03:52,746 - INFO - common - plotting \\n\""
      ]
     },
     "execution_count": 1,
     "metadata": {},
     "output_type": "execute_result"
    }
   ],
   "source": [
    "## AMP_TPOSE\n",
    "'''\n",
    "OrderedDict([('rotation', {'arr': array([[ 0.       ,  0.       ,  0.       ,  1.       ],\n",
    "       [ 0.       ,  0.       ,  0.       ,  1.       ],\n",
    "       [ 0.       ,  0.       ,  0.       ,  1.       ],\n",
    "       [-0.7071068,  0.       ,  0.       ,  0.7071068],\n",
    "       [ 0.       ,  0.       ,  0.       ,  1.       ],\n",
    "       [ 0.       ,  0.       ,  0.       ,  1.       ],\n",
    "       [ 0.7071068,  0.       ,  0.       ,  0.7071068],\n",
    "       [ 0.       ,  0.       ,  0.       ,  1.       ],\n",
    "       [ 0.       ,  0.       ,  0.       ,  1.       ],\n",
    "       [ 0.       ,  0.       ,  0.       ,  1.       ],\n",
    "       [ 0.       ,  0.       ,  0.       ,  1.       ],\n",
    "       [ 0.       ,  0.       ,  0.       ,  1.       ],\n",
    "       [ 0.       ,  0.       ,  0.       ,  1.       ],\n",
    "       [ 0.       ,  0.       ,  0.       ,  1.       ],\n",
    "       [ 0.       ,  0.       ,  0.       ,  1.       ]], dtype=float32), \n",
    "    'context': {'dtype': 'float32'}}), \n",
    "    ('root_translation', {'arr': array([0. , 0. , 0.9], dtype=float32), \n",
    "    'context': {'dtype': 'float32'}}), \n",
    "       ('skeleton_tree', OrderedDict([('node_names', ['pelvis', 'torso', 'head', 'right_upper_arm', 'right_lower_arm', 'right_hand', 'left_upper_arm', 'left_lower_arm', 'left_hand', 'right_thigh', 'right_shin', 'right_foot', 'left_thigh', 'left_shin', 'left_foot']), \n",
    "       ('parent_indices', {'arr': array([-1,  0,  1,  1,  3,  4,  1,  6,  7,  0,  9, 10,  0, 12, 13]), \n",
    "       'context': {'dtype': 'int64'}}), \n",
    "       ('local_translation', \n",
    "       {'arr': array([[ 0.      ,  0.      ,  1.      ],\n",
    "       [ 0.      ,  0.      ,  0.236151],\n",
    "       [ 0.      ,  0.      ,  0.223894],\n",
    "       [-0.02405 , -0.18311 ,  0.2435  ],\n",
    "       [ 0.      ,  0.      , -0.274788],\n",
    "       [ 0.      ,  0.      , -0.258947],\n",
    "       [-0.02405 ,  0.18311 ,  0.2435  ],\n",
    "       [ 0.      ,  0.      , -0.274788],\n",
    "       [ 0.      ,  0.      , -0.258947],\n",
    "       [ 0.      , -0.084887,  0.      ],\n",
    "       [ 0.      ,  0.      , -0.421546],\n",
    "       [ 0.      ,  0.      , -0.40987 ],\n",
    "       [ 0.      ,  0.084887,  0.      ],\n",
    "       [ 0.      ,  0.      , -0.421546],\n",
    "       [ 0.      ,  0.      , -0.40987 ]], dtype=float32), 'context': {'dtype': 'float32'}})])), ('is_local', True), ('__name__', 'SkeletonState')])\n",
    "2023-08-08 11:03:52,746 - INFO - common - plotting \n",
    "'''\n"
   ]
  },
  {
   "cell_type": "code",
   "execution_count": null,
   "id": "c4fa84d8",
   "metadata": {},
   "outputs": [],
   "source": [
    "('root_translation', {'arr': array([-1.18230655e-05,  9.97919159e+01,  4.94681299e-05], dtype=float32), \n",
    "                      'context': {'dtype': 'float32'}}), \n",
    "('skeleton_tree', OrderedDict([('node_names', \n",
    "                                ['mixamorig:Hips', 'mixamorig:Spine', 'mixamorig:Spine1', \n",
    "                                 'mixamorig:Spine2', 'mixamorig:Neck', 'mixamorig:Head', \n",
    "                                 'mixamorig:HeadTop_End', 'mixamorig:LeftEye', \n",
    "                                 'mixamorig:RightEye', 'mixamorig:LeftShoulder',\n",
    "                                 'mixamorig:LeftArm', 'mixamorig:LeftForeArm', \n",
    "                                 'mixamorig:LeftHand', 'mixamorig:LeftHandMiddle1', \n",
    "                                 'mixamorig:LeftHandMiddle2', 'mixamorig:LeftHandMiddle3', \n",
    "                                 'mixamorig:LeftHandMiddle4', 'mixamorig:LeftHandThumb1', \n",
    "                                 'mixamorig:LeftHandThumb2', 'mixamorig:LeftHandThumb3', \n",
    "                                 'mixamorig:LeftHandThumb4', 'mixamorig:LeftHandIndex1', \n",
    "                                 'mixamorig:LeftHandIndex2', 'mixamorig:LeftHandIndex3', \n",
    "                                 'mixamorig:LeftHandIndex4', 'mixamorig:LeftHandRing1', \n",
    "                                 'mixamorig:LeftHandRing2', 'mixamorig:LeftHandRing3', \n",
    "                                 'mixamorig:LeftHandRing4', 'mixamorig:LeftHandPinky1', \n",
    "                                 'mixamorig:LeftHandPinky2', 'mixamorig:LeftHandPinky3',\n",
    "                                 'mixamorig:LeftHandPinky4', 'mixamorig:RightShoulder', \n",
    "                                 'mixamorig:RightArm', 'mixamorig:RightForeArm', \n",
    "                                 'mixamorig:RightHand', 'mixamorig:RightHandMiddle1', \n",
    "                                 'mixamorig:RightHandMiddle2', 'mixamorig:RightHandMiddle3',\n",
    "                                 'mixamorig:RightHandMiddle4', 'mixamorig:RightHandThumb1',\n",
    "                                 'mixamorig:RightHandThumb2', 'mixamorig:RightHandThumb3', \n",
    "                                 'mixamorig:RightHandThumb4', 'mixamorig:RightHandIndex1', \n",
    "                                 'mixamorig:RightHandIndex2', 'mixamorig:RightHandIndex3',\n",
    "                                 'mixamorig:RightHandIndex4', 'mixamorig:RightHandRing1', \n",
    "                                 'mixamorig:RightHandRing2', 'mixamorig:RightHandRing3', 'mixamorig:RightHandRing4', 'mixamorig:RightHandPinky1', \n",
    "                                 'mixamorig:RightHandPinky2', 'mixamorig:RightHandPinky3', 'mixamorig:RightHandPinky4', \n",
    "                                 'mixamorig:RightUpLeg', 'mixamorig:RightLeg', \n",
    "                                 'mixamorig:RightFoot', 'mixamorig:RightToeBase', \n",
    "                                 'mixamorig:RightToe_End', \n",
    "                                 'mixamorig:LeftUpLeg', \n",
    "                                 'mixamorig:LeftLeg', 'mixamorig:LeftFoot', 'mixamorig:LeftToeBase', 'mixamorig:LeftToe_End']), \n",
    "                               ('parent_indices', {'arr': array([-1,  0,  1,  2,  3,  4,  5,  5,  5,  3,  9, 10, 11, 12, 13, 14, 15,\n",
    "       12, 17, 18, 19, 12, 21, 22, 23, 12, 25, 26, 27, 12, 29, 30, 31,  3,\n",
    "       33, 34, 35, 36, 37, 38, 39, 36, 41, 42, 43, 36, 45, 46, 47, 36, 49,\n",
    "       50, 51, 36, 53, 54, 55,  0, 57, 58, 59, 60,  0, 62, 63, 64, 65])"
   ]
  }
 ],
 "metadata": {
  "kernelspec": {
   "display_name": "Python 3 (ipykernel)",
   "language": "python",
   "name": "python3"
  },
  "language_info": {
   "codemirror_mode": {
    "name": "ipython",
    "version": 3
   },
   "file_extension": ".py",
   "mimetype": "text/x-python",
   "name": "python",
   "nbconvert_exporter": "python",
   "pygments_lexer": "ipython3",
   "version": "3.11.3"
  }
 },
 "nbformat": 4,
 "nbformat_minor": 5
}
