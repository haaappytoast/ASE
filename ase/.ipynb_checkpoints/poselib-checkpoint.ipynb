{
 "cells": [
  {
   "cell_type": "code",
   "execution_count": 14,
   "id": "1942807f",
   "metadata": {},
   "outputs": [
    {
     "data": {
      "text/plain": [
       "'/home/vml/deepmm_ws/ASE'"
      ]
     },
     "execution_count": 14,
     "metadata": {},
     "output_type": "execute_result"
    }
   ],
   "source": [
    "import os\n",
    "import numpy as np\n",
    "os.getcwd()\n"
   ]
  },
  {
   "cell_type": "markdown",
   "id": "6d0733ff",
   "metadata": {},
   "source": [
    "### Skeleton"
   ]
  },
  {
   "cell_type": "code",
   "execution_count": 2,
   "id": "bfc8a7f6",
   "metadata": {},
   "outputs": [
    {
     "name": "stderr",
     "output_type": "stream",
     "text": [
      "2023-02-13 12:57:10,089 - INFO - logger - logger initialized\n"
     ]
    },
    {
     "name": "stdout",
     "output_type": "stream",
     "text": [
      "Error: FBX library failed to load - importing FBX data will not succeed. Message: No module named 'fbx'\n",
      "FBX tools must be installed from https://help.autodesk.com/view/FBX/2020/ENU/?guid=FBX_Developer_Help_scripting_with_python_fbx_installing_python_fbx_html\n"
     ]
    }
   ],
   "source": [
    "from ase.poselib.poselib.skeleton.skeleton3d import SkeletonTree\n",
    "\n",
    "skeleton_path = \"./ase/data/assets/mjcf/amp_humanoid.xml\"\n",
    "t = SkeletonTree.from_mjcf(skeleton_path)"
   ]
  },
  {
   "cell_type": "code",
   "execution_count": 3,
   "id": "d27e0b86",
   "metadata": {},
   "outputs": [
    {
     "data": {
      "text/plain": [
       "SkeletonTree(\n",
       "    node_names=['pelvis', 'torso', 'head', 'right_upper_arm', 'right_lower_arm', 'right_hand', 'left_upper_arm', 'left_lower_arm', 'left_hand', 'right_thigh', 'right_shin', 'right_foot', 'left_thigh', 'left_shin', 'left_foot'],\n",
       "    parent_indices=tensor([-1,  0,  1,  1,  3,  4,  1,  6,  7,  0,  9, 10,  0, 12, 13]),\n",
       "    local_translation=tensor([[ 0.0000,  0.0000,  1.0000],\n",
       "            [ 0.0000,  0.0000,  0.2362],\n",
       "            [ 0.0000,  0.0000,  0.2239],\n",
       "            [-0.0240, -0.1831,  0.2435],\n",
       "            [ 0.0000,  0.0000, -0.2748],\n",
       "            [ 0.0000,  0.0000, -0.2589],\n",
       "            [-0.0240,  0.1831,  0.2435],\n",
       "            [ 0.0000,  0.0000, -0.2748],\n",
       "            [ 0.0000,  0.0000, -0.2589],\n",
       "            [ 0.0000, -0.0849,  0.0000],\n",
       "            [ 0.0000,  0.0000, -0.4215],\n",
       "            [ 0.0000,  0.0000, -0.4099],\n",
       "            [ 0.0000,  0.0849,  0.0000],\n",
       "            [ 0.0000,  0.0000, -0.4215],\n",
       "            [ 0.0000,  0.0000, -0.4099]])\n",
       ")"
      ]
     },
     "execution_count": 3,
     "metadata": {},
     "output_type": "execute_result"
    }
   ],
   "source": [
    "t"
   ]
  },
  {
   "cell_type": "code",
   "execution_count": 4,
   "id": "68f4410c",
   "metadata": {},
   "outputs": [
    {
     "data": {
      "text/plain": [
       "torch.Size([15, 3])"
      ]
     },
     "execution_count": 4,
     "metadata": {},
     "output_type": "execute_result"
    }
   ],
   "source": [
    "t.local_translation.shape"
   ]
  },
  {
   "cell_type": "code",
   "execution_count": 7,
   "id": "8abe9d87",
   "metadata": {},
   "outputs": [
    {
     "ename": "IndexError",
     "evalue": "only integers, slices (`:`), ellipsis (`...`), numpy.newaxis (`None`) and integer or boolean arrays are valid indices",
     "output_type": "error",
     "traceback": [
      "\u001b[0;31m---------------------------------------------------------------------------\u001b[0m",
      "\u001b[0;31mIndexError\u001b[0m                                Traceback (most recent call last)",
      "\u001b[0;32m/tmp/ipykernel_62410/935205600.py\u001b[0m in \u001b[0;36m<module>\u001b[0;34m\u001b[0m\n\u001b[0;32m----> 1\u001b[0;31m \u001b[0mprint\u001b[0m\u001b[0;34m(\u001b[0m\u001b[0mmotion\u001b[0m\u001b[0;34m[\u001b[0m\u001b[0;34m'skeleton_tree'\u001b[0m\u001b[0;34m]\u001b[0m\u001b[0;34m.\u001b[0m\u001b[0mkeys\u001b[0m\u001b[0;34m(\u001b[0m\u001b[0;34m)\u001b[0m\u001b[0;34m)\u001b[0m\u001b[0;34m\u001b[0m\u001b[0;34m\u001b[0m\u001b[0m\n\u001b[0m",
      "\u001b[0;31mIndexError\u001b[0m: only integers, slices (`:`), ellipsis (`...`), numpy.newaxis (`None`) and integer or boolean arrays are valid indices"
     ]
    }
   ],
   "source": [
    "print(motion['skeleton_tree'].keys())"
   ]
  },
  {
   "cell_type": "markdown",
   "id": "de84d730",
   "metadata": {},
   "source": [
    "### Motion Files"
   ]
  },
  {
   "cell_type": "code",
   "execution_count": 4,
   "id": "b6291ee7",
   "metadata": {},
   "outputs": [
    {
     "name": "stdout",
     "output_type": "stream",
     "text": [
      "/home/vml/deepmm_ws/ASE/ase\n",
      "odict_keys(['rotation', 'root_translation', 'global_velocity', 'global_angular_velocity', 'skeleton_tree', 'is_local', 'fps', '__name__'])\n"
     ]
    }
   ],
   "source": [
    "import os\n",
    "import numpy as np\n",
    "print(os.getcwd())\n",
    "\n",
    "path = \"/home/vml/deepmm_ws/isaac_ws/isaac_example/ASE/ase/data/motions/\"\n",
    "npy_file = \"amp_humanoid_walk.npy\"\n",
    "motion = np.load(path + npy_file, allow_pickle=True).item()\n",
    "\n",
    "print(motion.keys())"
   ]
  },
  {
   "cell_type": "code",
   "execution_count": 5,
   "id": "a26151db",
   "metadata": {},
   "outputs": [
    {
     "name": "stdout",
     "output_type": "stream",
     "text": [
      "root_translation shape:  (40, 3)\n",
      "rotation shape:  (40, 15, 4)\n",
      "global_velocity shape:  (40, 15, 3)\n",
      "global_angular_velocity shape:  (40, 15, 3)\n"
     ]
    }
   ],
   "source": [
    "print('root_translation shape: ', motion[\"root_translation\"]['arr'].shape)\n",
    "print('rotation shape: ', motion[\"rotation\"]['arr'].shape)\n",
    "print('global_velocity shape: ', motion[\"global_velocity\"]['arr'].shape)\n",
    "print('global_angular_velocity shape: ', motion[\"global_angular_velocity\"]['arr'].shape)"
   ]
  },
  {
   "cell_type": "code",
   "execution_count": 8,
   "id": "da67edb6",
   "metadata": {
    "scrolled": true
   },
   "outputs": [
    {
     "name": "stdout",
     "output_type": "stream",
     "text": [
      "(1, 15, 3), motion global_velocity\n",
      "[[-0.30651146 -0.03684241  0.14121155]\n",
      " [ 0.13513653 -0.08895879 -0.01826774]\n",
      " [ 0.08245533 -0.27308902 -0.22259736]\n",
      " [-0.07427756 -0.13573483 -0.20377347]\n",
      " [-0.07793968 -0.00661459 -0.2362252 ]\n",
      " [-0.07793968 -0.00661459 -0.2362252 ]\n",
      " [-0.0819842  -0.08844034 -0.1847031 ]\n",
      " [ 0.10580572  0.47380292 -0.02329901]\n",
      " [ 0.10580572  0.47380292 -0.02329901]\n",
      " [ 0.17809348 -0.20988372  0.70835984]\n",
      " [ 0.48270348  1.70644498  0.81555623]\n",
      " [-0.08303666  1.46814525  0.73237103]\n",
      " [ 0.04542645  0.23489816 -0.01656863]\n",
      " [-0.59982634  2.0015769   0.11652721]\n",
      " [-1.14480448  2.38307714 -0.03365361]]\n"
     ]
    }
   ],
   "source": [
    "print(\"(1, 15, 3), motion global_velocity\")\n",
    "print(motion[\"global_velocity\"]['arr'][0, :, :])"
   ]
  },
  {
   "cell_type": "markdown",
   "id": "c2e2ee28",
   "metadata": {},
   "source": [
    "dir(curr_motion)\n",
    "\n",
    "['__class__', '__delattr__', '__dict__', '__dir__', '__doc__', '__eq__', '__format__', '__ge__', '__getattribute__', '__gt__', '__hash__', '__init__', '__init_subclass__', '__le__', '__len__', '__lt__', '__module__', '__ne__', '__new__', '__reduce__', '__reduce_ex__', '__repr__', '__setattr__', '__sizeof__', '__str__', '__subclasshook__', '__weakref__', '_compute_angular_velocity', '_compute_velocity', '_fps', '_get_pairwise_average_translation', '_global_rotation', '_is_local', '_local_rotation', '_remapped_to', '_skeleton_tree', '_to_state_vector', '_transfer_to', 'clone', 'compute_forward_vector', 'crop', 'drop_nodes_by_names', 'fps', 'from_dict', 'from_fbx', 'from_file', 'from_rotation_and_root_translation', 'from_skeleton_state', 'from_state_vector_and_velocity', 'global_angular_velocity', 'global_repr', 'global_root_angular_velocity', 'global_root_rotation', 'global_root_velocity', 'global_root_yaw_rotation', 'global_rotation', 'global_transformation', 'global_translation', 'global_translation_xy', 'global_translation_xz', 'global_velocity', 'invariant_property', 'is_local', 'keep_nodes_by_names', 'local_repr', 'local_rotation', 'local_rotation_to_root', 'local_transformation', 'local_translation', 'local_translation_to_root', 'num_joints', 'retarget_to', 'retarget_to_by_tpose', 'root_translation', 'root_translation_xy', 'rotation', 'skeleton_tree', 'tensor', 'time_delta', 'to_dict', 'to_file', 'zero_pose']\n"
   ]
  },
  {
   "cell_type": "code",
   "execution_count": 12,
   "id": "3f176df0",
   "metadata": {},
   "outputs": [
    {
     "ename": "ModuleNotFoundError",
     "evalue": "No module named 'poselib'",
     "output_type": "error",
     "traceback": [
      "\u001b[0;31m---------------------------------------------------------------------------\u001b[0m",
      "\u001b[0;31mModuleNotFoundError\u001b[0m                       Traceback (most recent call last)",
      "\u001b[0;32m/tmp/ipykernel_72114/1730708403.py\u001b[0m in \u001b[0;36m<module>\u001b[0;34m\u001b[0m\n\u001b[0;32m----> 1\u001b[0;31m \u001b[0;32mfrom\u001b[0m \u001b[0mase\u001b[0m\u001b[0;34m.\u001b[0m\u001b[0mutils\u001b[0m\u001b[0;34m.\u001b[0m\u001b[0mmotion_lib\u001b[0m \u001b[0;32mimport\u001b[0m \u001b[0mMotionLib\u001b[0m\u001b[0;34m,\u001b[0m \u001b[0mDeepMimicMotionLib\u001b[0m\u001b[0;34m\u001b[0m\u001b[0;34m\u001b[0m\u001b[0m\n\u001b[0m\u001b[1;32m      2\u001b[0m \u001b[0;34m\u001b[0m\u001b[0m\n\u001b[1;32m      3\u001b[0m \u001b[0;32mdef\u001b[0m \u001b[0m_load_motion\u001b[0m\u001b[0;34m(\u001b[0m\u001b[0mself\u001b[0m\u001b[0;34m,\u001b[0m \u001b[0mmotion_file\u001b[0m\u001b[0;34m)\u001b[0m\u001b[0;34m:\u001b[0m\u001b[0;34m\u001b[0m\u001b[0;34m\u001b[0m\u001b[0m\n\u001b[1;32m      4\u001b[0m     \u001b[0;31m#! have to be changed\u001b[0m\u001b[0;34m\u001b[0m\u001b[0;34m\u001b[0m\u001b[0m\n\u001b[1;32m      5\u001b[0m     \u001b[0;32massert\u001b[0m\u001b[0;34m(\u001b[0m\u001b[0mself\u001b[0m\u001b[0;34m.\u001b[0m\u001b[0m_dof_offsets\u001b[0m\u001b[0;34m[\u001b[0m\u001b[0;34m-\u001b[0m\u001b[0;36m1\u001b[0m\u001b[0;34m]\u001b[0m \u001b[0;34m==\u001b[0m \u001b[0mself\u001b[0m\u001b[0;34m.\u001b[0m\u001b[0mnum_dof\u001b[0m\u001b[0;34m)\u001b[0m\u001b[0;34m\u001b[0m\u001b[0;34m\u001b[0m\u001b[0m\n",
      "\u001b[0;32m~/deepmm_ws/ASE/ase/utils/motion_lib.py\u001b[0m in \u001b[0;36m<module>\u001b[0;34m\u001b[0m\n\u001b[1;32m     31\u001b[0m \u001b[0;32mimport\u001b[0m \u001b[0myaml\u001b[0m\u001b[0;34m\u001b[0m\u001b[0;34m\u001b[0m\u001b[0m\n\u001b[1;32m     32\u001b[0m \u001b[0;34m\u001b[0m\u001b[0m\n\u001b[0;32m---> 33\u001b[0;31m \u001b[0;32mfrom\u001b[0m \u001b[0mposelib\u001b[0m\u001b[0;34m.\u001b[0m\u001b[0mposelib\u001b[0m\u001b[0;34m.\u001b[0m\u001b[0mskeleton\u001b[0m\u001b[0;34m.\u001b[0m\u001b[0mskeleton3d\u001b[0m \u001b[0;32mimport\u001b[0m \u001b[0mSkeletonMotion\u001b[0m\u001b[0;34m\u001b[0m\u001b[0;34m\u001b[0m\u001b[0m\n\u001b[0m\u001b[1;32m     34\u001b[0m \u001b[0;32mfrom\u001b[0m \u001b[0mposelib\u001b[0m\u001b[0;34m.\u001b[0m\u001b[0mposelib\u001b[0m\u001b[0;34m.\u001b[0m\u001b[0mcore\u001b[0m\u001b[0;34m.\u001b[0m\u001b[0mrotation3d\u001b[0m \u001b[0;32mimport\u001b[0m \u001b[0;34m*\u001b[0m\u001b[0;34m\u001b[0m\u001b[0;34m\u001b[0m\u001b[0m\n\u001b[1;32m     35\u001b[0m \u001b[0;32mfrom\u001b[0m \u001b[0misaacgym\u001b[0m\u001b[0;34m.\u001b[0m\u001b[0mtorch_utils\u001b[0m \u001b[0;32mimport\u001b[0m \u001b[0;34m*\u001b[0m\u001b[0;34m\u001b[0m\u001b[0;34m\u001b[0m\u001b[0m\n",
      "\u001b[0;31mModuleNotFoundError\u001b[0m: No module named 'poselib'"
     ]
    }
   ],
   "source": [
    "from utils.motion_lib import MotionLib, DeepMimicMotionLib\n",
    "\n",
    "def _load_motion(self, motion_file):\n",
    "    #! have to be changed\n",
    "    assert(self._dof_offsets[-1] == self.num_dof)\n",
    "    self._motion_lib = DeepMimicMotionLib(motion_file=motion_file,\n",
    "                                 dof_body_ids=self._dof_body_ids,\n",
    "                                 dof_offsets=self._dof_offsets,\n",
    "                                 key_body_ids=self._key_body_ids.cpu().numpy(), \n",
    "                                 device=self.device)\n",
    "    return"
   ]
  },
  {
   "cell_type": "code",
   "execution_count": null,
   "id": "5c51986a",
   "metadata": {},
   "outputs": [],
   "source": []
  }
 ],
 "metadata": {
  "kernelspec": {
   "display_name": "Python 3 (ipykernel)",
   "language": "python",
   "name": "python3"
  },
  "language_info": {
   "codemirror_mode": {
    "name": "ipython",
    "version": 3
   },
   "file_extension": ".py",
   "mimetype": "text/x-python",
   "name": "python",
   "nbconvert_exporter": "python",
   "pygments_lexer": "ipython3",
   "version": "3.9.13"
  }
 },
 "nbformat": 4,
 "nbformat_minor": 5
}
