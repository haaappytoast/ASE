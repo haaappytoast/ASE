{
 "cells": [
  {
   "cell_type": "code",
   "execution_count": 4,
   "id": "3e911262",
   "metadata": {},
   "outputs": [
    {
     "name": "stdout",
     "output_type": "stream",
     "text": [
      "(300, 15, 4)\n",
      "odict_keys(['rotation', 'root_translation', 'global_velocity', 'global_angular_velocity', 'skeleton_tree', 'is_local', 'fps', '__name__'])\n"
     ]
    }
   ],
   "source": [
    "\n",
    "import numpy as np\n",
    "path = \"/home/vml/deepmm_ws/ASE/ase/poselib/data/\"\n",
    "npy_file = \"cml@userMotion2.npy\"\n",
    "npy_file = 'retargeted/cml@m5_slow.npy'\n",
    "# path = \"/home/vml/deepmm_ws/isaac_ws/isaac_example/ASE/ase/data/motions/\"\n",
    "# npy_file = \"amp_humanoid_walk.npy\"\n",
    "\n",
    "motion_dict = np.load(path + npy_file, allow_pickle=True).item()\n",
    "\n",
    "print(motion_dict['rotation']['arr'].shape)\n",
    "print(motion_dict.keys())"
   ]
  },
  {
   "cell_type": "code",
   "execution_count": 47,
   "id": "ec900ecd",
   "metadata": {},
   "outputs": [],
   "source": [
    "import torch\n",
    "def quat_mul(a, b):\n",
    "    assert a.shape == b.shape\n",
    "    shape = a.shape\n",
    "    a = a.reshape(-1, 4)\n",
    "    b = b.reshape(-1, 4)\n",
    "\n",
    "    x1, y1, z1, w1 = a[:, 0], a[:, 1], a[:, 2], a[:, 3]\n",
    "    x2, y2, z2, w2 = b[:, 0], b[:, 1], b[:, 2], b[:, 3]\n",
    "    ww = (z1 + x1) * (x2 + y2)\n",
    "    yy = (w1 - y1) * (w2 + z2)\n",
    "    zz = (w1 + y1) * (w2 - z2)\n",
    "    xx = ww + yy + zz\n",
    "    qq = 0.5 * (xx + (z1 - x1) * (x2 - y2))\n",
    "    w = qq - ww + (z1 - y1) * (y2 - z2)\n",
    "    x = qq - xx + (x1 + w1) * (x2 + w2)\n",
    "    y = qq - yy + (w1 - x1) * (y2 + z2)\n",
    "    z = qq - zz + (z1 + y1) * (w2 - x2)\n",
    "\n",
    "    quat = torch.stack([x, y, z, w], dim=-1).view(shape)\n",
    "\n",
    "    return quat"
   ]
  },
  {
   "cell_type": "code",
   "execution_count": 48,
   "id": "42c190a4",
   "metadata": {},
   "outputs": [],
   "source": [
    "pelvis_rot = torch.tensor(motion_dict['rotation']['arr'][:, 0, :])\n",
    "right_upper_arm_rot = torch.tensor(motion_dict['rotation']['arr'][:, 3, :])\n",
    "left_upper_arm_rot = torch.tensor(motion_dict['rotation']['arr'][:, 6, :])"
   ]
  },
  {
   "cell_type": "code",
   "execution_count": 51,
   "id": "08b2a6a2",
   "metadata": {},
   "outputs": [],
   "source": [
    "motion_dict['rotation']['arr'][:, 3, :] = quat_mul(right_upper_arm_rot, pelvis_rot).numpy() # right arm\n",
    "motion_dict['rotation']['arr'][:, 6, :] = quat_mul(left_upper_arm_rot, pelvis_rot).numpy() # left arm\n",
    "motion_dict['rotation']['arr'][:, 0, :] = np.array([0.0, 0.0, 0.0, 1.0])"
   ]
  },
  {
   "cell_type": "code",
   "execution_count": 52,
   "id": "bea77e6b",
   "metadata": {},
   "outputs": [],
   "source": [
    "path = \"/home/vml/deepmm_ws/ASE/ase/poselib/data/\"\n",
    "npy_file = 'retargeted/cml@m5_slow_root_fixed.npy'\n",
    "\n",
    "np.save(path+npy_file, motion_dict)"
   ]
  },
  {
   "cell_type": "code",
   "execution_count": null,
   "id": "233b6c6f",
   "metadata": {},
   "outputs": [],
   "source": []
  }
 ],
 "metadata": {
  "kernelspec": {
   "display_name": "Python 3 (ipykernel)",
   "language": "python",
   "name": "python3"
  },
  "language_info": {
   "codemirror_mode": {
    "name": "ipython",
    "version": 3
   },
   "file_extension": ".py",
   "mimetype": "text/x-python",
   "name": "python",
   "nbconvert_exporter": "python",
   "pygments_lexer": "ipython3",
   "version": "3.11.3"
  }
 },
 "nbformat": 4,
 "nbformat_minor": 5
}
