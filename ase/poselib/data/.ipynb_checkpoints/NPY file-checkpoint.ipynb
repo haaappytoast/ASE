{
 "cells": [
  {
   "cell_type": "code",
   "execution_count": 1,
   "id": "c35926b6",
   "metadata": {},
   "outputs": [
    {
     "name": "stdout",
     "output_type": "stream",
     "text": [
      "/home/vml/deepmm_ws/ASE/ase/poselib/data\n"
     ]
    }
   ],
   "source": [
    "import os\n",
    "import numpy as np\n",
    "print(os.getcwd())"
   ]
  },
  {
   "cell_type": "code",
   "execution_count": 18,
   "id": "187bef3f",
   "metadata": {},
   "outputs": [],
   "source": [
    "arm_tpose = np.load(os.getcwd()+\"/personal/Armature_tpose.npy\", allow_pickle=True).item()"
   ]
  },
  {
   "cell_type": "code",
   "execution_count": 20,
   "id": "ba48b467",
   "metadata": {},
   "outputs": [
    {
     "name": "stdout",
     "output_type": "stream",
     "text": [
      "odict_keys(['rotation', 'root_translation', 'skeleton_tree', 'is_local', '__name__'])\n"
     ]
    }
   ],
   "source": [
    "print(arm_tpose.keys())"
   ]
  },
  {
   "cell_type": "code",
   "execution_count": 21,
   "id": "38ad8a96",
   "metadata": {},
   "outputs": [
    {
     "ename": "NameError",
     "evalue": "name 'arm_t_pose' is not defined",
     "output_type": "error",
     "traceback": [
      "\u001b[0;31m---------------------------------------------------------------------------\u001b[0m",
      "\u001b[0;31mNameError\u001b[0m                                 Traceback (most recent call last)",
      "Cell \u001b[0;32mIn[21], line 1\u001b[0m\n\u001b[0;32m----> 1\u001b[0m \u001b[38;5;28mprint\u001b[39m(\u001b[38;5;124m\"\u001b[39m\u001b[38;5;124marm: \u001b[39m\u001b[38;5;124m\"\u001b[39m, arm_t_pose[\u001b[38;5;124m'\u001b[39m\u001b[38;5;124mrotation\u001b[39m\u001b[38;5;124m'\u001b[39m][\u001b[38;5;124m'\u001b[39m\u001b[38;5;124marr\u001b[39m\u001b[38;5;124m'\u001b[39m]\u001b[38;5;241m.\u001b[39mshape)\n\u001b[1;32m      2\u001b[0m \u001b[38;5;28mprint\u001b[39m(\u001b[38;5;124m\"\u001b[39m\u001b[38;5;124marm: \u001b[39m\u001b[38;5;124m\"\u001b[39m, arm_t_pose[\u001b[38;5;124m'\u001b[39m\u001b[38;5;124mroot_translation\u001b[39m\u001b[38;5;124m'\u001b[39m][\u001b[38;5;124m'\u001b[39m\u001b[38;5;124marr\u001b[39m\u001b[38;5;124m'\u001b[39m]\u001b[38;5;241m.\u001b[39mshape)\n",
      "\u001b[0;31mNameError\u001b[0m: name 'arm_t_pose' is not defined"
     ]
    }
   ],
   "source": [
    "print(\"arm: \", arm_tpose['rotation']['arr'].shape)\n",
    "print(\"arm: \", arm_tpose['root_translation']['arr'].shape)"
   ]
  },
  {
   "cell_type": "code",
   "execution_count": null,
   "id": "cc011cb1",
   "metadata": {},
   "outputs": [],
   "source": []
  }
 ],
 "metadata": {
  "kernelspec": {
   "display_name": "Python 3 (ipykernel)",
   "language": "python",
   "name": "python3"
  },
  "language_info": {
   "codemirror_mode": {
    "name": "ipython",
    "version": 3
   },
   "file_extension": ".py",
   "mimetype": "text/x-python",
   "name": "python",
   "nbconvert_exporter": "python",
   "pygments_lexer": "ipython3",
   "version": "3.11.3"
  }
 },
 "nbformat": 4,
 "nbformat_minor": 5
}
