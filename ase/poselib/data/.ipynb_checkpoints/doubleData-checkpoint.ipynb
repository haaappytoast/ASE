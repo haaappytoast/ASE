{
 "cells": [
  {
   "cell_type": "code",
   "execution_count": 1,
   "id": "39c695dd",
   "metadata": {},
   "outputs": [
    {
     "name": "stdout",
     "output_type": "stream",
     "text": [
      "/home/vml/deepmm_ws/ASE/ase/poselib/data\n"
     ]
    }
   ],
   "source": [
    "import os\n",
    "import numpy as np\n",
    "print(os.getcwd())"
   ]
  },
  {
   "cell_type": "code",
   "execution_count": 65,
   "id": "00a440f0",
   "metadata": {},
   "outputs": [],
   "source": [
    "npy_file = \"red@10-Hit 1 Speed2.npy\"\n",
    "npy_file = \"red@10-Hit 2 Speed2.npy\"\n",
    "npy_file = \"red@10-Hit 3 Speed2.npy\"\n",
    "\n",
    "tennismotion = np.load(os.getcwd()+\"/unity/motion_retarget/1103_tennis/30fps/\" + npy_file, \\\n",
    "                       allow_pickle=True).item()"
   ]
  },
  {
   "cell_type": "code",
   "execution_count": 72,
   "id": "d4b81133",
   "metadata": {},
   "outputs": [
    {
     "name": "stdout",
     "output_type": "stream",
     "text": [
      "odict_keys(['rotation', 'root_translation', 'global_velocity', 'global_angular_velocity', 'skeleton_tree', 'is_local', 'fps', '__name__'])\n",
      "\n",
      "\n",
      "odict_keys(['node_names', 'parent_indices', 'local_translation'])\n",
      "['Hip', 'LowerSpine', 'MiddleSpine', 'Chest', 'Neck', 'Head', 'LClavicle', 'LShoulder', 'LForearm', 'LHand', 'LeftFinger0', 'LeftFinger01', 'LeftFinger02', 'LeftFinger1', 'LeftFinger11', 'LeftFinger12', 'LeftFinger2', 'LeftFinger21', 'LeftFinger22', 'LeftFinger3', 'LeftFinger31', 'LeftFinger32', 'LeftFinger4', 'LeftFinger41', 'LeftFinger42', 'RClavicle', 'RShoulder', 'RForearm', 'RHand', 'Raquette de Tennis', 'RightFinger0', 'RightFinger01', 'RightFinger02', 'RightFinger1', 'RightFinger11', 'RightFinger12', 'RightFinger2', 'RightFinger21', 'RightFinger22', 'RightFinger3', 'RightFinger31', 'RightFinger32', 'RightFinger4', 'RightFinger41', 'RightFinger42', 'RThigh', 'RShin', 'RFoot', 'RToe', 'LThigh', 'LShin', 'LFoot', 'LToe']\n"
     ]
    }
   ],
   "source": [
    "print(tennismotion.keys())\n",
    "print(\"\\n\")\n",
    "print(tennismotion['skeleton_tree'].keys())\n",
    "print(tennismotion['skeleton_tree']['parent_indices'])\n",
    "print(tennismotion['skeleton_tree']['node_names'])"
   ]
  },
  {
   "cell_type": "code",
   "execution_count": 67,
   "id": "e8725ae8",
   "metadata": {},
   "outputs": [
    {
     "name": "stdout",
     "output_type": "stream",
     "text": [
      "rotation:  (68, 53, 4)\n",
      "root_translation:  (68, 3)\n",
      "global_velocity:  (68, 53, 3)\n",
      "global_angular_velocity:  (68, 53, 3)\n"
     ]
    }
   ],
   "source": [
    "print(\"rotation: \", tennismotion['rotation']['arr'].shape)\n",
    "\n",
    "print(\"root_translation: \", tennismotion['root_translation']['arr'].shape)\n",
    "\n",
    "print(\"global_velocity: \", tennismotion['global_velocity']['arr'].shape)\n",
    "\n",
    "print(\"global_angular_velocity: \", tennismotion['global_angular_velocity']['arr'].shape)"
   ]
  },
  {
   "cell_type": "code",
   "execution_count": 68,
   "id": "7186b09f",
   "metadata": {},
   "outputs": [
    {
     "name": "stdout",
     "output_type": "stream",
     "text": [
      "(68, 53, 4)\n"
     ]
    }
   ],
   "source": [
    "A = tennismotion['rotation']['arr']\n",
    "print(A.shape)"
   ]
  },
  {
   "cell_type": "code",
   "execution_count": 69,
   "id": "a6e07b94",
   "metadata": {},
   "outputs": [],
   "source": [
    "doubled_tennismotion = tennismotion\n",
    "A = doubled_tennismotion['rotation']['arr']\n",
    "B = doubled_tennismotion['root_translation']['arr']\n",
    "C = doubled_tennismotion['global_velocity']['arr']\n",
    "D = doubled_tennismotion['global_angular_velocity']['arr']\n",
    "\n",
    "doubled_tennismotion['rotation']['arr'] = np.concatenate((A, A), axis=0)\n",
    "doubled_tennismotion['root_translation']['arr'] = np.concatenate((B, B), axis=0)\n",
    "doubled_tennismotion['global_velocity']['arr'] = np.concatenate((C, C), axis=0)\n",
    "doubled_tennismotion['global_angular_velocity']['arr'] = np.concatenate((D, D), axis=0)"
   ]
  },
  {
   "cell_type": "code",
   "execution_count": 70,
   "id": "38502e24",
   "metadata": {},
   "outputs": [
    {
     "name": "stdout",
     "output_type": "stream",
     "text": [
      "rotation:  (136, 53, 4)\n",
      "root_translation:  (136, 3)\n",
      "global_velocity:  (136, 53, 3)\n",
      "global_angular_velocity:  (136, 53, 3)\n"
     ]
    }
   ],
   "source": [
    "print(\"rotation: \", doubled_tennismotion['rotation']['arr'].shape)\n",
    "\n",
    "print(\"root_translation: \", doubled_tennismotion['root_translation']['arr'].shape)\n",
    "\n",
    "print(\"global_velocity: \", doubled_tennismotion['global_velocity']['arr'].shape)\n",
    "\n",
    "print(\"global_angular_velocity: \", doubled_tennismotion['global_angular_velocity']['arr'].shape)"
   ]
  },
  {
   "cell_type": "code",
   "execution_count": 71,
   "id": "959b7459",
   "metadata": {},
   "outputs": [],
   "source": [
    "np.save(os.getcwd()+\"/unity/motion_retarget/1103_tennis/doubled/\" + npy_file, doubled_tennismotion)"
   ]
  },
  {
   "cell_type": "code",
   "execution_count": null,
   "id": "0f48fcb4",
   "metadata": {},
   "outputs": [],
   "source": []
  },
  {
   "cell_type": "code",
   "execution_count": null,
   "id": "eba1059e",
   "metadata": {},
   "outputs": [],
   "source": []
  }
 ],
 "metadata": {
  "kernelspec": {
   "display_name": "Python 3 (ipykernel)",
   "language": "python",
   "name": "python3"
  },
  "language_info": {
   "codemirror_mode": {
    "name": "ipython",
    "version": 3
   },
   "file_extension": ".py",
   "mimetype": "text/x-python",
   "name": "python",
   "nbconvert_exporter": "python",
   "pygments_lexer": "ipython3",
   "version": "3.11.3"
  }
 },
 "nbformat": 4,
 "nbformat_minor": 5
}
