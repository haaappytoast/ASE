{
 "cells": [
  {
   "cell_type": "code",
   "execution_count": 9,
   "id": "f282d0aa",
   "metadata": {},
   "outputs": [
    {
     "name": "stdout",
     "output_type": "stream",
     "text": [
      "/home/vml/deepmm_ws/ASE/ase/poselib/data/unity\n"
     ]
    }
   ],
   "source": [
    "import os\n",
    "path = os.getcwd()\n",
    "print(path)"
   ]
  },
  {
   "cell_type": "code",
   "execution_count": 14,
   "id": "a032add3",
   "metadata": {},
   "outputs": [],
   "source": [
    "#path = \"C:\\\\Users\\\\vml\\\\Desktop\\\\UnityProject\\\\temp_MQ\\\\Assets\\\\ForCML\\\\Unity2CML\\\\ExportJointData\"\n",
    "txt_name = \"/MetaAvatar@control1\"\n",
    "import json\n",
    "import numpy as np\n",
    "\n",
    "def vecXlist_to_numpy(vecX, name=''):\n",
    "    localX = []\n",
    "    for i in range(len(vecX)):\n",
    "        if len(vecX[i]) == 3:\n",
    "            x, y, z = vecX[i]['x'],  vecX[i]['y'],  vecX[i]['z']\n",
    "            if \"right\" in name:\n",
    "                localx = [-x, -z, y]\n",
    "                #localx = [z, y, x]\n",
    "                pass\n",
    "            elif \"left\" in name:\n",
    "                localx = [x, -z, -y]\n",
    "                #localx = [-z, y, -x]\n",
    "            elif \"head\" in name:\n",
    "                localx = [z,-x, y]\n",
    "        \n",
    "            else:\n",
    "                localx = [x, y, z]\n",
    "                \n",
    "        if len(vecX[i]) == 4:\n",
    "            x, y, z, w = vecX[i]['x'],  vecX[i]['y'],  vecX[i]['z'],   vecX[i]['w']\n",
    "            localx = [x, y, z, w]\n",
    "\n",
    "        localX.append(localx)\n",
    "        \n",
    "    result =  np.array(localX)\n",
    "    return result\n",
    "\n",
    "def from_txt_to_npy(path, txt_name, save_np, np_name, fps=30, preprocess=True):\n",
    "    txt_file = open(path + txt_name+\".txt\")\n",
    "    jsonfile = json.load(txt_file)\n",
    "\n",
    "    # parse motion info\n",
    "    frameCount = jsonfile['frameCount']\n",
    "    rcontroller_local_pos = jsonfile['rcontroller_local_pos']\n",
    "    lcontroller_local_pos = jsonfile['lcontroller_local_pos']\n",
    "    headset_local_pos = jsonfile['headset_local_pos']\n",
    "    rcontroller_local_rot = jsonfile['rcontroller_local_rot']\n",
    "    lcontroller_local_rot = jsonfile['lcontroller_local_rot']\n",
    "    headset_local_rot = jsonfile['headset_local_rot']\n",
    "    isXpressed = jsonfile['isXPressed']\n",
    "    isYpressed = jsonfile['isYPressed']\n",
    "    \n",
    "    rightLpos = vecXlist_to_numpy(rcontroller_local_pos, \"rightLpos\")\n",
    "    leftLpos = vecXlist_to_numpy(lcontroller_local_pos, \"leftLpos\")\n",
    "    headLpos = vecXlist_to_numpy(headset_local_pos, \"headLpos\")\n",
    "    rightLRot = vecXlist_to_numpy(rcontroller_local_rot)\n",
    "    leftLRot = vecXlist_to_numpy(lcontroller_local_rot)\n",
    "    headLRot = vecXlist_to_numpy(headset_local_rot)\n",
    "    isXpressed = np.array(isXpressed)\n",
    "    isYpressed = np.array(isYpressed)\n",
    "    \n",
    "    # changejnt_trans to numpy\n",
    "    print(\"=========\")\n",
    "    print(\"frameCount:\", frameCount)\n",
    "    print(\"rightLpos: \", rightLpos.shape)\n",
    "    print(\"leftLpos: \", leftLpos.shape)\n",
    "    print(\"headLpos: \", headLpos.shape)\n",
    "    print(\"isXpressed: \", isXpressed.shape)\n",
    "    print(\"isYpressed: \", isYpressed.shape)\n",
    "    print(\"=========\")\n",
    "    \n",
    "    if save_np:\n",
    "        print(\"--------------- save Transformation Matrix npy file: \", np_name, \"--------------\")\n",
    "        np.save(path + txt_name + \"@rlh_localPos\", np.concatenate((rightLpos, leftLpos, headLpos), axis=1))\n",
    "        np.save(path + txt_name + \"@rlh_localRot\", np.concatenate((rightLRot, leftLRot, headLRot), axis=1))\n",
    "        np.save(path + txt_name + \"@xy_pressed\", np.concatenate((np.expand_dims(isXpressed, axis=1), \\\n",
    "                                                        np.expand_dims(isYpressed, axis=1)), axis=1))\n",
    "    return rightLpos, leftLpos, headLpos, isXpressed, isYpressed\n"
   ]
  },
  {
   "cell_type": "code",
   "execution_count": 15,
   "id": "d0cda555",
   "metadata": {},
   "outputs": [
    {
     "name": "stdout",
     "output_type": "stream",
     "text": [
      "=========\n",
      "frameCount: 300\n",
      "rightLpos:  (300, 3)\n",
      "leftLpos:  (300, 3)\n",
      "headLpos:  (300, 3)\n",
      "isXpressed:  (300,)\n",
      "isYpressed:  (300,)\n",
      "=========\n",
      "--------------- save Transformation Matrix npy file:  happy --------------\n"
     ]
    }
   ],
   "source": [
    "rightLpos, leftLpos, headLpos, isXpressed, isYpressed = from_txt_to_npy(path, txt_name, True, \"happy\", preprocess=True)"
   ]
  },
  {
   "cell_type": "code",
   "execution_count": null,
   "id": "6feaffe6",
   "metadata": {},
   "outputs": [],
   "source": []
  },
  {
   "cell_type": "code",
   "execution_count": 1,
   "id": "2c231198",
   "metadata": {},
   "outputs": [],
   "source": [
    "#path = \"C:\\\\Users\\\\vml\\\\Desktop\\\\UnityProject\\\\temp_MQ\\\\Assets\\\\ForCML\\\\Unity2CML\\\\ExportJointData\"\n",
    "txt_name = \"/joystick0.txt\"\n",
    "import json\n",
    "import numpy as np\n",
    "\n",
    "def vecXlist_to_numpy(vecX, name=''):\n",
    "    localX = []\n",
    "    for i in range(len(vecX)):\n",
    "        if len(vecX[i]) == 3:\n",
    "            x, y, z = vecX[i]['x'],  vecX[i]['y'],  vecX[i]['z']\n",
    "            if \"right\" in name:\n",
    "                localx = [-x, -z, y]\n",
    "                #localx = [z, y, x]\n",
    "                pass\n",
    "            elif \"left\" in name:\n",
    "                localx = [x, -z, -y]\n",
    "                #localx = [-z, y, -x]\n",
    "            elif \"head\" in name:\n",
    "                localx = [z,-x, y]\n",
    "        \n",
    "            else:\n",
    "                localx = [x, y, z]\n",
    "                \n",
    "        if len(vecX[i]) == 4:\n",
    "            x, y, z, w = vecX[i]['x'],  vecX[i]['y'],  vecX[i]['z'],   vecX[i]['w']\n",
    "            localx = [x, y, z, w]\n",
    "\n",
    "        localX.append(localx)\n",
    "        \n",
    "    result =  np.array(localX)\n",
    "    return result\n",
    "\n",
    "def from_txt_to_npy(path, txt_name, save_np, np_name, fps=30, preprocess=True):\n",
    "    txt_file = open(path + txt_name+\".txt\")\n",
    "    jsonfile = json.load(txt_file)\n",
    "\n",
    "    # parse motion info\n",
    "    frameCount = jsonfile['frameCount']\n",
    "    rcontroller_local_pos = jsonfile['rcontroller_local_pos']\n",
    "    lcontroller_local_pos = jsonfile['lcontroller_local_pos']\n",
    "    headset_local_pos = jsonfile['headset_local_pos']\n",
    "    rcontroller_local_rot = jsonfile['rcontroller_local_rot']\n",
    "    lcontroller_local_rot = jsonfile['lcontroller_local_rot']\n",
    "    headset_local_rot = jsonfile['headset_local_rot']\n",
    "    isXpressed = jsonfile['isXPressed']\n",
    "    isYpressed = jsonfile['isYPressed']\n",
    "    \n",
    "    rightLpos = vecXlist_to_numpy(rcontroller_local_pos, \"rightLpos\")\n",
    "    leftLpos = vecXlist_to_numpy(lcontroller_local_pos, \"leftLpos\")\n",
    "    headLpos = vecXlist_to_numpy(headset_local_pos, \"headLpos\")\n",
    "    rightLRot = vecXlist_to_numpy(rcontroller_local_rot)\n",
    "    leftLRot = vecXlist_to_numpy(lcontroller_local_rot)\n",
    "    headLRot = vecXlist_to_numpy(headset_local_rot)\n",
    "    isXpressed = np.array(isXpressed)\n",
    "    isYpressed = np.array(isYpressed)\n",
    "    \n",
    "    # changejnt_trans to numpy\n",
    "    print(\"=========\")\n",
    "    print(\"frameCount:\", frameCount)\n",
    "    print(\"rightLpos: \", rightLpos.shape)\n",
    "    print(\"leftLpos: \", leftLpos.shape)\n",
    "    print(\"headLpos: \", headLpos.shape)\n",
    "    print(\"isXpressed: \", isXpressed.shape)\n",
    "    print(\"isYpressed: \", isYpressed.shape)\n",
    "    print(\"=========\")\n",
    "    \n",
    "    if save_np:\n",
    "        print(\"--------------- save Transformation Matrix npy file: \", np_name, \"--------------\")\n",
    "        np.save(path + txt_name + \"@rlh_localPos\", np.concatenate((rightLpos, leftLpos, headLpos), axis=1))\n",
    "        np.save(path + txt_name + \"@rlh_localRot\", np.concatenate((rightLRot, leftLRot, headLRot), axis=1))\n",
    "        np.save(path + txt_name + \"@xy_pressed\", np.concatenate((np.expand_dims(isXpressed, axis=1), \\\n",
    "                                                        np.expand_dims(isYpressed, axis=1)), axis=1))\n",
    "    return rightLpos, leftLpos, headLpos, isXpressed, isYpressed\n"
   ]
  },
  {
   "cell_type": "code",
   "execution_count": null,
   "id": "e31d6557",
   "metadata": {},
   "outputs": [],
   "source": [
    "rightLpos, leftLpos, headLpos, isXpressed, isYpressed = from_txt_to_npy(path, txt_name, True, \"happy\", preprocess=True)"
   ]
  },
  {
   "cell_type": "code",
   "execution_count": 5,
   "id": "abdc25d8",
   "metadata": {},
   "outputs": [
    {
     "name": "stdout",
     "output_type": "stream",
     "text": [
      "/home/vml/deepmm_ws/ASE/ase/poselib/data/unity\n"
     ]
    }
   ],
   "source": [
    "import os\n",
    "path = os.getcwd()\n",
    "print(path)\n",
    "txt_name = \"/joystick0.txt\"\n",
    "import json\n",
    "import numpy as np\n",
    "\n",
    "txt_file = open(path + txt_name)\n",
    "jsonfile = json.load(txt_file)\n",
    "\n",
    "# parse motion info\n",
    "frameCount = jsonfile['frameCount']\n",
    "rcontroller_local_pos = jsonfile['rcontroller_pos_wrt_root']\n",
    "lcontroller_local_pos = jsonfile['lcontroller_pos_wrt_root']\n",
    "headset_local_pos = jsonfile['headset_pos_wrt_root']\n",
    "rcontroller_local_rot = jsonfile['rcontroller_rot_wrt_root']\n",
    "lcontroller_local_rot = jsonfile['lcontroller_rot_wrt_root']\n",
    "headset_local_rot = jsonfile['headset_rot_wrt_root']\n",
    "\n",
    "\n"
   ]
  },
  {
   "cell_type": "code",
   "execution_count": 6,
   "id": "8a19ca1a",
   "metadata": {},
   "outputs": [],
   "source": [
    "rightLpos = vecXlist_to_numpy(rcontroller_local_pos, \"rightLpos\")\n",
    "leftLpos = vecXlist_to_numpy(lcontroller_local_pos, \"leftLpos\")\n",
    "headLpos = vecXlist_to_numpy(headset_local_pos, \"headLpos\")\n",
    "rightLRot = vecXlist_to_numpy(rcontroller_local_rot)\n",
    "leftLRot = vecXlist_to_numpy(lcontroller_local_rot)\n",
    "headLRot = vecXlist_to_numpy(headset_local_rot)"
   ]
  },
  {
   "cell_type": "code",
   "execution_count": 9,
   "id": "580478fc",
   "metadata": {},
   "outputs": [
    {
     "name": "stdout",
     "output_type": "stream",
     "text": [
      "=========\n",
      "frameCount: 150\n",
      "rightLpos:  (150, 3)\n",
      "leftLpos:  (150, 3)\n",
      "headLpos:  (150, 3)\n",
      "=========\n"
     ]
    }
   ],
   "source": [
    "# changejnt_trans to numpy\n",
    "print(\"=========\")\n",
    "print(\"frameCount:\", frameCount)\n",
    "print(\"rightLpos: \", rightLpos.shape)\n",
    "print(\"leftLpos: \", leftLpos.shape)\n",
    "print(\"headLpos: \", headLpos.shape)\n",
    "print(\"=========\")"
   ]
  },
  {
   "cell_type": "code",
   "execution_count": null,
   "id": "f93c7ad0",
   "metadata": {},
   "outputs": [],
   "source": [
    "np.save(path + txt_name + \"@rlh_localPos\", np.concatenate((rightLpos, leftLpos, headLpos), axis=1))\n",
    "np.save(path + txt_name + \"@rlh_localRot\", np.concatenate((rightLRot, leftLRot, headLRot), axis=1))\n"
   ]
  }
 ],
 "metadata": {
  "kernelspec": {
   "display_name": "Python 3 (ipykernel)",
   "language": "python",
   "name": "python3"
  },
  "language_info": {
   "codemirror_mode": {
    "name": "ipython",
    "version": 3
   },
   "file_extension": ".py",
   "mimetype": "text/x-python",
   "name": "python",
   "nbconvert_exporter": "python",
   "pygments_lexer": "ipython3",
   "version": "3.11.3"
  }
 },
 "nbformat": 4,
 "nbformat_minor": 5
}
