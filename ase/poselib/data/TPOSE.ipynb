{
 "cells": [
  {
   "cell_type": "code",
   "execution_count": 1,
   "id": "7dd5bb64",
   "metadata": {},
   "outputs": [
    {
     "name": "stdout",
     "output_type": "stream",
     "text": [
      "/home/vml/deepmm_ws/ASE/ase/poselib/data\n"
     ]
    }
   ],
   "source": [
    "import os\n",
    "import numpy as np\n",
    "print(os.getcwd())"
   ]
  },
  {
   "cell_type": "code",
   "execution_count": 2,
   "id": "3ad42d0c",
   "metadata": {},
   "outputs": [],
   "source": [
    "cmu_tpose = np.load(os.getcwd()+\"/cml_humanoid_tpose.npy\", allow_pickle=True)"
   ]
  },
  {
   "cell_type": "code",
   "execution_count": 3,
   "id": "ff4d7eb6",
   "metadata": {},
   "outputs": [
    {
     "data": {
      "text/plain": [
       "array(OrderedDict([('rotation', {'arr': array([[ 0.       ,  0.       ,  0.       ,  1.       ],\n",
       "       [ 0.       ,  0.       ,  0.       ,  1.       ],\n",
       "       [ 0.       ,  0.       ,  0.       ,  1.       ],\n",
       "       [-0.7071068,  0.       ,  0.       ,  0.7071068],\n",
       "       [ 0.       ,  0.       ,  0.       ,  1.       ],\n",
       "       [ 0.       ,  0.       ,  0.       ,  1.       ],\n",
       "       [ 0.7071068,  0.       ,  0.       ,  0.7071068],\n",
       "       [ 0.       ,  0.       ,  0.       ,  1.       ],\n",
       "       [ 0.       ,  0.       ,  0.       ,  1.       ],\n",
       "       [ 0.       ,  0.       ,  0.       ,  1.       ],\n",
       "       [ 0.       ,  0.       ,  0.       ,  1.       ],\n",
       "       [ 0.       ,  0.       ,  0.       ,  1.       ],\n",
       "       [ 0.       ,  0.       ,  0.       ,  1.       ],\n",
       "       [ 0.       ,  0.       ,  0.       ,  1.       ],\n",
       "       [ 0.       ,  0.       ,  0.       ,  1.       ]], dtype=float32), 'context': {'dtype': 'float32'}}), ('root_translation', {'arr': array([0. , 0. , 0.9], dtype=float32), 'context': {'dtype': 'float32'}}), ('skeleton_tree', OrderedDict([('node_names', ['pelvis', 'torso', 'head', 'right_upper_arm', 'right_lower_arm', 'right_hand', 'left_upper_arm', 'left_lower_arm', 'left_hand', 'right_thigh', 'right_shin', 'right_foot', 'left_thigh', 'left_shin', 'left_foot']), ('parent_indices', {'arr': array([-1,  0,  1,  1,  3,  4,  1,  6,  7,  0,  9, 10,  0, 12, 13]), 'context': {'dtype': 'int64'}}), ('local_translation', {'arr': array([[ 0.      ,  0.      ,  1.      ],\n",
       "       [ 0.      ,  0.      ,  0.236151],\n",
       "       [ 0.      ,  0.      ,  0.223894],\n",
       "       [-0.02405 , -0.18311 ,  0.2435  ],\n",
       "       [ 0.      ,  0.      , -0.274788],\n",
       "       [ 0.      ,  0.      , -0.258947],\n",
       "       [-0.02405 ,  0.18311 ,  0.2435  ],\n",
       "       [ 0.      ,  0.      , -0.274788],\n",
       "       [ 0.      ,  0.      , -0.258947],\n",
       "       [ 0.      , -0.084887,  0.      ],\n",
       "       [ 0.      ,  0.      , -0.421546],\n",
       "       [ 0.      ,  0.      , -0.40987 ],\n",
       "       [ 0.      ,  0.084887,  0.      ],\n",
       "       [ 0.      ,  0.      , -0.421546],\n",
       "       [ 0.      ,  0.      , -0.40987 ]], dtype=float32), 'context': {'dtype': 'float32'}})])), ('is_local', True), ('__name__', 'SkeletonState')]),\n",
       "      dtype=object)"
      ]
     },
     "execution_count": 3,
     "metadata": {},
     "output_type": "execute_result"
    }
   ],
   "source": [
    "cmu_tpose"
   ]
  },
  {
   "cell_type": "code",
   "execution_count": null,
   "id": "3c3e1940",
   "metadata": {},
   "outputs": [],
   "source": [
    "joint_parents:  [-1, 0, 1, 2, 3, 4, 5, 5, 5, 4, 3, 10, 11, 12, 13, 14, 15, 16, 13, 18, 19, 20, 13, 22, 23, 24, 13, 26, 27, 28, 13, 30, 31, 32, 13, 13, 13, 13, 13, 12, 3, 40, 41, 42, 43, 44, 45, 46, 43, 48, 49, 50, 43, 52, 53, 54, 43, 56, 57, 58, 43, 60, 61, 62, 43, 43, 43, 43, 43, 42, 0, 70, 71, 72, 73, 0, 75, 76, 77, 78]\n",
    "joint_names:  ['Hips', 'Spine', 'Chest', 'UpperChest', \n",
    "               'Neck', 'Head', \n",
    "               'Right_Eye', 'Left_Eye', 'Jaw', 'Neck_Twist_A', \n",
    "               'Left_Shoulder', 'Left_UpperArm', 'Left_LowerArm', 'Left_Hand', \n",
    "               'Left_PinkyProximal', 'Left_PinkyIntermediate', 'Left_PinkyDistal', 'Left_PinkyDistalEnd', \n",
    "               'Left_RingProximal', 'Left_RingIntermediate', 'Left_RingDistal', 'Left_RingDistalEnd', \n",
    "               'Left_MiddleProximal', 'Left_MiddleIntermediate', 'Left_MiddleDistal', 'Left_MiddleDistalEnd', \n",
    "               'Left_IndexProximal', 'Left_IndexIntermediate', 'Left_IndexDistal', 'Left_IndexDistalEnd', \n",
    "               'Left_ThumbProximal', 'Left_ThumbIntermediate', 'Left_ThumbDistal', 'Left_ThumbDistalEnd', \n",
    "               'Left_PinkyProximalDef', 'Left_RingProximalDef', 'Left_MiddleProximalDef', 'Left_IndexProximalDef', \n",
    "               'Left_ThumbIntermediateDef', 'Left_LowerArmEnd', 'Right_Shoulder', 'Right_UpperArm', \n",
    "               'Right_LowerArm', 'Right_Hand', 'Right_PinkyProximal', 'Right_PinkyIntermediate', \n",
    "               'Right_PinkyDistal', 'Right_PinkyDistalEnd', 'Right_RingProximal', 'Right_RingIntermediate', \n",
    "               'Right_RingDistal', 'Right_RingDistalEnd', 'Right_MiddleProximal', 'Right_MiddleIntermediate', \n",
    "               'Right_MiddleDistal', 'Right_MiddleDistalEnd', 'Right_IndexProximal', 'Right_IndexIntermediate', \n",
    "               'Right_IndexDistal', 'Right_IndexDistalEnd', 'Right_ThumbProximal', 'Right_ThumbIntermediate', \n",
    "               'Right_ThumbDistal', 'Right_ThumbDistalEnd', 'Right_PinkyProximalDef', 'Right_RingProximalDef', \n",
    "               'Right_MiddleProximalDef', 'Right_IndexProximalDef', 'Right_ThumbIntermediateDef', \n",
    "               'Right_LowerArmEnd', 'Left_UpperLeg', 'Left_LowerLeg', 'Left_Foot', 'Left_Toes', 'Left_ToesEnd', \n",
    "               'Right_UpperLeg', 'Right_LowerLeg', 'Right_Foot', 'Right_Toes', 'Right_ToesEnd']"
   ]
  }
 ],
 "metadata": {
  "kernelspec": {
   "display_name": "Python 3 (ipykernel)",
   "language": "python",
   "name": "python3"
  },
  "language_info": {
   "codemirror_mode": {
    "name": "ipython",
    "version": 3
   },
   "file_extension": ".py",
   "mimetype": "text/x-python",
   "name": "python",
   "nbconvert_exporter": "python",
   "pygments_lexer": "ipython3",
   "version": "3.11.3"
  }
 },
 "nbformat": 4,
 "nbformat_minor": 5
}
