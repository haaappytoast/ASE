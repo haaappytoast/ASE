{
 "cells": [
  {
   "cell_type": "code",
   "execution_count": 1,
   "id": "167e3237",
   "metadata": {},
   "outputs": [
    {
     "name": "stdout",
     "output_type": "stream",
     "text": [
      "/home/vml/deepmm_ws/ASE/ase/poselib/data\n"
     ]
    }
   ],
   "source": [
    "import os\n",
    "import numpy as np\n",
    "print(os.getcwd())"
   ]
  },
  {
   "cell_type": "code",
   "execution_count": 2,
   "id": "9996dd2a",
   "metadata": {},
   "outputs": [],
   "source": [
    "arm_tpose = np.load(os.getcwd()+\"/unity/CMLAvatar.npy\", allow_pickle=True).item()"
   ]
  },
  {
   "cell_type": "code",
   "execution_count": 3,
   "id": "e976429e",
   "metadata": {},
   "outputs": [
    {
     "name": "stdout",
     "output_type": "stream",
     "text": [
      "odict_keys(['rotation', 'root_translation', 'global_velocity', 'global_angular_velocity', 'skeleton_tree', 'is_local', 'fps', '__name__'])\n"
     ]
    }
   ],
   "source": [
    "print(arm_tpose.keys())"
   ]
  },
  {
   "cell_type": "code",
   "execution_count": 4,
   "id": "b9c34ecc",
   "metadata": {},
   "outputs": [
    {
     "name": "stdout",
     "output_type": "stream",
     "text": [
      "arm:  (300, 15, 4)\n",
      "arm:  (300, 3)\n"
     ]
    }
   ],
   "source": [
    "print(\"arm: \", arm_tpose['rotation']['arr'].shape)\n",
    "print(\"arm: \", arm_tpose['root_translation']['arr'].shape)"
   ]
  },
  {
   "cell_type": "code",
   "execution_count": null,
   "id": "408b37f4",
   "metadata": {},
   "outputs": [],
   "source": []
  }
 ],
 "metadata": {
  "kernelspec": {
   "display_name": "Python 3 (ipykernel)",
   "language": "python",
   "name": "python3"
  },
  "language_info": {
   "codemirror_mode": {
    "name": "ipython",
    "version": 3
   },
   "file_extension": ".py",
   "mimetype": "text/x-python",
   "name": "python",
   "nbconvert_exporter": "python",
   "pygments_lexer": "ipython3",
   "version": "3.11.3"
  }
 },
 "nbformat": 4,
 "nbformat_minor": 5
}
