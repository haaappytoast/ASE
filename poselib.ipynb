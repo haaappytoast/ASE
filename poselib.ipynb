{
 "cells": [
  {
   "cell_type": "code",
   "execution_count": 1,
   "id": "1942807f",
   "metadata": {},
   "outputs": [
    {
     "data": {
      "text/plain": [
       "'/home/vml/deepmm_ws/ASE'"
      ]
     },
     "execution_count": 1,
     "metadata": {},
     "output_type": "execute_result"
    }
   ],
   "source": [
    "import os\n",
    "import numpy as np\n",
    "os.getcwd()\n"
   ]
  },
  {
   "cell_type": "markdown",
   "id": "6d0733ff",
   "metadata": {},
   "source": [
    "### Skeleton"
   ]
  },
  {
   "cell_type": "code",
   "execution_count": 2,
   "id": "bfc8a7f6",
   "metadata": {},
   "outputs": [
    {
     "name": "stderr",
     "output_type": "stream",
     "text": [
      "2023-03-07 13:30:31,065 - INFO - logger - logger initialized\n"
     ]
    },
    {
     "name": "stdout",
     "output_type": "stream",
     "text": [
      "Error: FBX library failed to load - importing FBX data will not succeed. Message: No module named 'fbx'\n",
      "FBX tools must be installed from https://help.autodesk.com/view/FBX/2020/ENU/?guid=FBX_Developer_Help_scripting_with_python_fbx_installing_python_fbx_html\n"
     ]
    }
   ],
   "source": [
    "from ase.poselib.poselib.skeleton.skeleton3d import SkeletonTree\n",
    "\n",
    "skeleton_path = \"./ase/data/assets/mjcf/amp_humanoid.xml\"\n",
    "t = SkeletonTree.from_mjcf(skeleton_path)"
   ]
  },
  {
   "cell_type": "code",
   "execution_count": 3,
   "id": "d27e0b86",
   "metadata": {},
   "outputs": [
    {
     "data": {
      "text/plain": [
       "SkeletonTree(\n",
       "    node_names=['pelvis', 'torso', 'head', 'right_upper_arm', 'right_lower_arm', 'right_hand', 'left_upper_arm', 'left_lower_arm', 'left_hand', 'right_thigh', 'right_shin', 'right_foot', 'left_thigh', 'left_shin', 'left_foot'],\n",
       "    parent_indices=tensor([-1,  0,  1,  1,  3,  4,  1,  6,  7,  0,  9, 10,  0, 12, 13]),\n",
       "    local_translation=tensor([[ 0.0000,  0.0000,  1.0000],\n",
       "            [ 0.0000,  0.0000,  0.2362],\n",
       "            [ 0.0000,  0.0000,  0.2239],\n",
       "            [-0.0240, -0.1831,  0.2435],\n",
       "            [ 0.0000,  0.0000, -0.2748],\n",
       "            [ 0.0000,  0.0000, -0.2589],\n",
       "            [-0.0240,  0.1831,  0.2435],\n",
       "            [ 0.0000,  0.0000, -0.2748],\n",
       "            [ 0.0000,  0.0000, -0.2589],\n",
       "            [ 0.0000, -0.0849,  0.0000],\n",
       "            [ 0.0000,  0.0000, -0.4215],\n",
       "            [ 0.0000,  0.0000, -0.4099],\n",
       "            [ 0.0000,  0.0849,  0.0000],\n",
       "            [ 0.0000,  0.0000, -0.4215],\n",
       "            [ 0.0000,  0.0000, -0.4099]])\n",
       ")"
      ]
     },
     "execution_count": 3,
     "metadata": {},
     "output_type": "execute_result"
    }
   ],
   "source": [
    "t"
   ]
  },
  {
   "cell_type": "code",
   "execution_count": 5,
   "id": "68f4410c",
   "metadata": {},
   "outputs": [
    {
     "data": {
      "text/plain": [
       "torch.Size([15, 3])"
      ]
     },
     "execution_count": 5,
     "metadata": {},
     "output_type": "execute_result"
    }
   ],
   "source": [
    "t.local_translation.shape"
   ]
  },
  {
   "cell_type": "code",
   "execution_count": 6,
   "id": "8abe9d87",
   "metadata": {},
   "outputs": [
    {
     "ename": "NameError",
     "evalue": "name 'motion' is not defined",
     "output_type": "error",
     "traceback": [
      "\u001b[0;31m---------------------------------------------------------------------------\u001b[0m",
      "\u001b[0;31mNameError\u001b[0m                                 Traceback (most recent call last)",
      "\u001b[0;32m/tmp/ipykernel_742138/935205600.py\u001b[0m in \u001b[0;36m<module>\u001b[0;34m\u001b[0m\n\u001b[0;32m----> 1\u001b[0;31m \u001b[0mprint\u001b[0m\u001b[0;34m(\u001b[0m\u001b[0mmotion\u001b[0m\u001b[0;34m[\u001b[0m\u001b[0;34m'skeleton_tree'\u001b[0m\u001b[0;34m]\u001b[0m\u001b[0;34m.\u001b[0m\u001b[0mkeys\u001b[0m\u001b[0;34m(\u001b[0m\u001b[0;34m)\u001b[0m\u001b[0;34m)\u001b[0m\u001b[0;34m\u001b[0m\u001b[0;34m\u001b[0m\u001b[0m\n\u001b[0m",
      "\u001b[0;31mNameError\u001b[0m: name 'motion' is not defined"
     ]
    }
   ],
   "source": [
    "print(motion['skeleton_tree'].keys())"
   ]
  },
  {
   "cell_type": "markdown",
   "id": "de84d730",
   "metadata": {},
   "source": [
    "### Motion Files"
   ]
  },
  {
   "cell_type": "code",
   "execution_count": 2,
   "id": "b6291ee7",
   "metadata": {},
   "outputs": [
    {
     "name": "stdout",
     "output_type": "stream",
     "text": [
      "/home/vml/deepmm_ws/ASE\n",
      "odict_keys(['rotation', 'root_translation', 'global_velocity', 'global_angular_velocity', 'skeleton_tree', 'is_local', 'fps', '__name__'])\n"
     ]
    }
   ],
   "source": [
    "import os\n",
    "import numpy as np\n",
    "print(os.getcwd())\n",
    "\n",
    "path = \"/home/vml/deepmm_ws/isaac_ws/isaac_example/ASE/ase/data/motions/\"\n",
    "npy_file = \"amp_humanoid_walk.npy\"\n",
    "motion = np.load(path + npy_file, allow_pickle=True).item()\n",
    "\n",
    "print(motion.keys())"
   ]
  },
  {
   "cell_type": "code",
   "execution_count": 5,
   "id": "a26151db",
   "metadata": {},
   "outputs": [
    {
     "name": "stdout",
     "output_type": "stream",
     "text": [
      "root_translation shape:  (40, 3)\n",
      "rotation shape:  (40, 15, 4)\n",
      "global_velocity shape:  (40, 15, 3)\n",
      "global_angular_velocity shape:  (40, 15, 3)\n"
     ]
    }
   ],
   "source": [
    "print('rotation shape: ', motion[\"rotation\"]['arr'].shape)\n",
    "print('root_translation shape: ', motion[\"root_translation\"]['arr'].shape)\n",
    "print('global_velocity shape: ', motion[\"global_velocity\"]['arr'].shape)\n",
    "print('global_angular_velocity shape: ', motion[\"global_angular_velocity\"]['arr'].shape)"
   ]
  },
  {
   "cell_type": "code",
   "execution_count": 4,
   "id": "da67edb6",
   "metadata": {
    "scrolled": true
   },
   "outputs": [
    {
     "name": "stdout",
     "output_type": "stream",
     "text": [
      "(40, 3)\n",
      "[[ 0.00000e+00 -0.00000e+00  8.54420e-01]\n",
      " [ 3.65300e-02 -2.66000e-03  8.50930e-01]\n",
      " [ 7.53500e-02 -7.31000e-03  8.48470e-01]\n",
      " [ 1.15800e-01 -1.32400e-02  8.47930e-01]\n",
      " [ 1.56470e-01 -2.06300e-02  8.50320e-01]\n",
      " [ 1.94260e-01 -2.63100e-02  8.53830e-01]\n",
      " [ 2.28450e-01 -3.03700e-02  8.57840e-01]\n",
      " [ 2.60040e-01 -3.44200e-02  8.62610e-01]\n",
      " [ 2.92530e-01 -3.70700e-02  8.67530e-01]\n",
      " [ 3.24630e-01 -3.97900e-02  8.72040e-01]\n",
      " [ 3.55040e-01 -4.15500e-02  8.75890e-01]\n",
      " [ 3.83850e-01 -4.24600e-02  8.78310e-01]\n",
      " [ 4.12060e-01 -4.35600e-02  8.79440e-01]\n",
      " [ 4.39920e-01 -4.39000e-02  8.79540e-01]\n",
      " [ 4.68060e-01 -4.41300e-02  8.78430e-01]\n",
      " [ 4.96150e-01 -4.48600e-02  8.76090e-01]\n",
      " [ 5.25840e-01 -4.45400e-02  8.72460e-01]\n",
      " [ 5.56570e-01 -4.35400e-02  8.68040e-01]\n",
      " [ 5.88990e-01 -4.19900e-02  8.63160e-01]\n",
      " [ 6.22910e-01 -3.92700e-02  8.58500e-01]\n",
      " [ 6.58930e-01 -3.63600e-02  8.54530e-01]\n",
      " [ 6.95460e-01 -3.28700e-02  8.51520e-01]\n",
      " [ 7.34510e-01 -2.80400e-02  8.49330e-01]\n",
      " [ 7.74310e-01 -2.18900e-02  8.48630e-01]\n",
      " [ 8.14760e-01 -1.39100e-02  8.50480e-01]\n",
      " [ 8.52370e-01 -7.87000e-03  8.53380e-01]\n",
      " [ 8.86120e-01 -1.10000e-03  8.57370e-01]\n",
      " [ 9.19690e-01  3.78000e-03  8.62450e-01]\n",
      " [ 9.51720e-01  7.75000e-03  8.67540e-01]\n",
      " [ 9.83170e-01  1.04900e-02  8.71920e-01]\n",
      " [ 1.01405e+00  1.23600e-02  8.75500e-01]\n",
      " [ 1.04378e+00  1.35400e-02  8.77750e-01]\n",
      " [ 1.07206e+00  1.44800e-02  8.78710e-01]\n",
      " [ 1.09976e+00  1.30600e-02  8.78690e-01]\n",
      " [ 1.12655e+00  1.21000e-02  8.77660e-01]\n",
      " [ 1.15328e+00  1.08000e-02  8.75580e-01]\n",
      " [ 1.18097e+00  8.63000e-03  8.72320e-01]\n",
      " [ 1.21051e+00  6.27000e-03  8.68600e-01]\n",
      " [ 1.24285e+00  2.44000e-03  8.64670e-01]\n",
      " [ 1.27778e+00 -0.00000e+00  8.54420e-01]]\n"
     ]
    }
   ],
   "source": [
    "#print(\"(1, 15, 3), motion global_velocity\")\n",
    "print(motion[\"root_translation\"]['arr'].shape)"
   ]
  },
  {
   "cell_type": "code",
   "execution_count": 29,
   "id": "e54e0930",
   "metadata": {},
   "outputs": [
    {
     "name": "stdout",
     "output_type": "stream",
     "text": [
      "odict_keys(['node_names', 'parent_indices', 'local_translation'])\n"
     ]
    }
   ],
   "source": [
    "print(motion['skeleton_tree'].keys())"
   ]
  },
  {
   "cell_type": "code",
   "execution_count": 40,
   "id": "1e1ee891",
   "metadata": {},
   "outputs": [
    {
     "name": "stdout",
     "output_type": "stream",
     "text": [
      "saved files in  /home/vml/deepmm_ws/ASE/ase/poselib/data/concat_humanoid_walk.npy\n",
      "motion data length:  80\n",
      "30.0\n"
     ]
    }
   ],
   "source": [
    "path = \"/home/vml/deepmm_ws/isaac_ws/isaac_example/ASE/ase/data/motions/\"\n",
    "npy_file = \"amp_humanoid_walk.npy\"\n",
    "motion = np.load(path + npy_file, allow_pickle=True).item()\n",
    "\n",
    "\n",
    "output_path = \"/home/vml/deepmm_ws/ASE/ase/poselib/data/\"\n",
    "output_npy_file = \"concat_humanoid_walk.npy\"\n",
    "\n",
    "def concat_motion(motion, output_path, output_motion):\n",
    "    path = \"/home/vml/deepmm_ws/isaac_ws/isaac_example/ASE/ase/data/motions/\"\n",
    "    npy_file = \"amp_humanoid_walk.npy\"\n",
    "    \n",
    "    concat_motion = motion\n",
    "    \n",
    "    num_frame = motion['root_translation']['arr'].shape[0]\n",
    "    motion_offset = motion[\"root_translation\"]['arr'][-1] - motion[\"root_translation\"]['arr'][0]\n",
    "    \n",
    "    next_root_translation = motion_offset + motion[\"root_translation\"]['arr']\n",
    "    \n",
    "    new_root_trs = np.append(motion['root_translation']['arr'], next_root_translation, axis=0)\n",
    "    new_rotation = np.append(motion[\"rotation\"]['arr'], motion[\"rotation\"]['arr'], axis=0)\n",
    "    new_global_velocity = np.append(motion[\"global_velocity\"]['arr'], motion[\"global_velocity\"]['arr'], axis=0)\n",
    "    new_global_angular_velocity = np.append(motion[\"global_angular_velocity\"]['arr'], motion[\"global_angular_velocity\"]['arr'], axis=0)\n",
    "    \n",
    "    concat_motion['root_translation']['arr'] = new_root_trs\n",
    "    concat_motion['rotation']['arr'] = new_rotation\n",
    "    concat_motion['global_velocity']['arr'] = new_global_velocity\n",
    "    concat_motion['global_angular_velocity']['arr'] = new_global_angular_velocity\n",
    "    \n",
    "    #print(\"new_root_trs.shape: \", concat_motion['root_translation']['arr'].shape)\n",
    "    #print(\"new_root_trs.shape: \", concat_motion['rotation']['arr'].shape)\n",
    "    #print(\"new_rotation.shape: \", concat_motion['global_velocity']['arr'].shape)\n",
    "    #print(\"new_global_velocity.shape: \", concat_motion['global_angular_velocity']['arr'].shape)\n",
    "    #print(\"new_global_angular_velocity.shape: \", concat_motion['root_translation']['arr'].shape)\n",
    "    np.save(output_path + output_npy_file, concat_motion)\n",
    "    print(\"saved files in \", output_path +output_npy_file)\n",
    "    print(\"motion data length: \", concat_motion['root_translation']['arr'].shape[0])\n",
    "    return concat_motion\n",
    "\n",
    "concat_motion = concat_motion(motion, output_path, output_npy_file)\n",
    "print(concat_motion['fps'])"
   ]
  },
  {
   "cell_type": "code",
   "execution_count": 54,
   "id": "1242a2ad",
   "metadata": {},
   "outputs": [
    {
     "name": "stdout",
     "output_type": "stream",
     "text": [
      "saved files in  /home/vml/deepmm_ws/ASE/ase/poselib/data/concat_humanoid_walk.npy\n",
      "motion data length:  440\n",
      "11  times doubled\n"
     ]
    }
   ],
   "source": [
    "path = \"/home/vml/deepmm_ws/isaac_ws/isaac_example/ASE/ase/data/motions/\"\n",
    "npy_file = \"amp_humanoid_walk.npy\"\n",
    "motion = np.load(path + npy_file, allow_pickle=True).item()\n",
    "\n",
    "\n",
    "output_path = \"/home/vml/deepmm_ws/ASE/ase/poselib/data/\"\n",
    "output_npy_file = \"concat_humanoid_walk.npy\"\n",
    "\n",
    "def concat_motion(num, motion, output_path, output_motion):\n",
    "    path = \"/home/vml/deepmm_ws/isaac_ws/isaac_example/ASE/ase/data/motions/\"\n",
    "    npy_file = \"amp_humanoid_walk.npy\"\n",
    "    import copy\n",
    "\n",
    "    concat_motion = copy.deepcopy(motion)\n",
    "    num_frame = motion['root_translation']['arr'].shape[0]\n",
    "    motion_offset = motion[\"root_translation\"]['arr'][-1] - motion[\"root_translation\"]['arr'][0]\n",
    "    \n",
    "    new_root_trs = copy.deepcopy(motion['root_translation']['arr'])\n",
    "    new_rotation = copy.deepcopy(motion[\"rotation\"]['arr'])\n",
    "    new_global_velocity = copy.deepcopy(motion[\"global_velocity\"]['arr'])\n",
    "    new_global_angular_velocity = copy.deepcopy(motion[\"global_angular_velocity\"]['arr'])\n",
    "    \n",
    "    for idx in range(1, num + 1):\n",
    "        idx_offset = motion_offset * idx\n",
    "        next_root_translation = idx_offset + motion[\"root_translation\"]['arr']\n",
    "        new_root_trs = np.append(new_root_trs, next_root_translation, axis=0)\n",
    "        new_rotation = np.append(new_rotation, motion[\"rotation\"]['arr'], axis=0)\n",
    "        new_global_velocity = np.append(new_global_velocity, motion[\"global_velocity\"]['arr'], axis=0)\n",
    "        new_global_angular_velocity = np.append(new_global_angular_velocity, motion[\"global_angular_velocity\"]['arr'], axis=0)\n",
    "    \n",
    "        concat_motion['root_translation']['arr'] = new_root_trs\n",
    "        concat_motion['rotation']['arr'] = new_rotation\n",
    "        concat_motion['global_velocity']['arr'] = new_global_velocity\n",
    "        concat_motion['global_angular_velocity']['arr'] = new_global_angular_velocity\n",
    "        \n",
    "        #print(\"*\"*10)\n",
    "        #print(\"new_root_trs.shape: \", concat_motion['root_translation']['arr'].shape)\n",
    "        #print(\"new_root_trs.shape: \", concat_motion['rotation']['arr'].shape)\n",
    "        #print(\"new_rotation.shape: \", concat_motion['global_velocity']['arr'].shape)\n",
    "        #print(\"new_global_velocity.shape: \", concat_motion['global_angular_velocity']['arr'].shape)\n",
    "        #print(\"new_global_angular_velocity.shape: \", concat_motion['root_translation']['arr'].shape)\n",
    "        #print(\"*\"*10)\n",
    "\n",
    "        np.save(output_path + output_npy_file, concat_motion)\n",
    "        \n",
    "    print(\"saved files in \", output_path +output_npy_file)\n",
    "    print(\"motion data length: \", concat_motion['root_translation']['arr'].shape[0])\n",
    "    print(num + 1, \" times doubled\")\n",
    "    return concat_motion\n",
    "\n",
    "concat_motion = concat_motion(10, motion, output_path, output_npy_file)\n"
   ]
  },
  {
   "cell_type": "code",
   "execution_count": 43,
   "id": "77570b2a",
   "metadata": {},
   "outputs": [
    {
     "name": "stdout",
     "output_type": "stream",
     "text": [
      "1\n",
      "2\n",
      "3\n",
      "4\n",
      "5\n",
      "6\n",
      "7\n",
      "8\n",
      "9\n",
      "10\n"
     ]
    }
   ],
   "source": []
  },
  {
   "cell_type": "markdown",
   "id": "c2e2ee28",
   "metadata": {},
   "source": [
    "dir(curr_motion)\n",
    "\n",
    "['__class__', '__delattr__', '__dict__', '__dir__', '__doc__', '__eq__', '__format__', '__ge__', '__getattribute__', '__gt__', '__hash__', '__init__', '__init_subclass__', '__le__', '__len__', '__lt__', '__module__', '__ne__', '__new__', '__reduce__', '__reduce_ex__', '__repr__', '__setattr__', '__sizeof__', '__str__', '__subclasshook__', '__weakref__', '_compute_angular_velocity', '_compute_velocity', '_fps', '_get_pairwise_average_translation', '_global_rotation', '_is_local', '_local_rotation', '_remapped_to', '_skeleton_tree', '_to_state_vector', '_transfer_to', 'clone', 'compute_forward_vector', 'crop', 'drop_nodes_by_names', 'fps', 'from_dict', 'from_fbx', 'from_file', 'from_rotation_and_root_translation', 'from_skeleton_state', 'from_state_vector_and_velocity', 'global_angular_velocity', 'global_repr', 'global_root_angular_velocity', 'global_root_rotation', 'global_root_velocity', 'global_root_yaw_rotation', 'global_rotation', 'global_transformation', 'global_translation', 'global_translation_xy', 'global_translation_xz', 'global_velocity', 'invariant_property', 'is_local', 'keep_nodes_by_names', 'local_repr', 'local_rotation', 'local_rotation_to_root', 'local_transformation', 'local_translation', 'local_translation_to_root', 'num_joints', 'retarget_to', 'retarget_to_by_tpose', 'root_translation', 'root_translation_xy', 'rotation', 'skeleton_tree', 'tensor', 'time_delta', 'to_dict', 'to_file', 'zero_pose']\n"
   ]
  },
  {
   "cell_type": "code",
   "execution_count": 9,
   "id": "5c51986a",
   "metadata": {},
   "outputs": [
    {
     "name": "stdout",
     "output_type": "stream",
     "text": [
      "/home/vml/deepmm_ws/ASE\n",
      "odict_keys(['rotation', 'root_translation', 'global_velocity', 'global_angular_velocity', 'skeleton_tree', 'is_local', 'fps', '__name__'])\n"
     ]
    }
   ],
   "source": [
    "import os\n",
    "import numpy as np\n",
    "print(os.getcwd())\n",
    "\n",
    "path = \"/home/vml/deepmm_ws/ASE/ase/poselib/data/\"\n",
    "npy_file = \"ybot_walking.npy\"\n",
    "motion = np.load(path + npy_file, allow_pickle=True).item()\n",
    "\n",
    "print(motion.keys())"
   ]
  },
  {
   "cell_type": "code",
   "execution_count": 10,
   "id": "dcb8246f",
   "metadata": {},
   "outputs": [
    {
     "name": "stdout",
     "output_type": "stream",
     "text": [
      "root_translation shape:  (58, 3)\n",
      "rotation shape:  (58, 65, 4)\n",
      "global_velocity shape:  (58, 65, 3)\n",
      "global_angular_velocity shape:  (58, 65, 3)\n"
     ]
    }
   ],
   "source": [
    "print('root_translation shape: ', motion[\"root_translation\"]['arr'].shape)\n",
    "print('rotation shape: ', motion[\"rotation\"]['arr'].shape)\n",
    "print('global_velocity shape: ', motion[\"global_velocity\"]['arr'].shape)\n",
    "print('global_angular_velocity shape: ', motion[\"global_angular_velocity\"]['arr'].shape)"
   ]
  },
  {
   "cell_type": "code",
   "execution_count": 11,
   "id": "ff4b5619",
   "metadata": {},
   "outputs": [
    {
     "name": "stdout",
     "output_type": "stream",
     "text": [
      "OrderedDict([('node_names', ['mixamorig:Hips', 'mixamorig:Spine', 'mixamorig:Spine1', 'mixamorig:Spine2', 'mixamorig:Neck', 'mixamorig:Head', 'mixamorig:HeadTop_End', 'mixamorig:RightShoulder', 'mixamorig:RightArm', 'mixamorig:RightForeArm', 'mixamorig:RightHand', 'mixamorig:RightHandThumb1', 'mixamorig:RightHandThumb2', 'mixamorig:RightHandThumb3', 'mixamorig:RightHandThumb4', 'mixamorig:RightHandIndex1', 'mixamorig:RightHandIndex2', 'mixamorig:RightHandIndex3', 'mixamorig:RightHandIndex4', 'mixamorig:RightHandMiddle1', 'mixamorig:RightHandMiddle2', 'mixamorig:RightHandMiddle3', 'mixamorig:RightHandMiddle4', 'mixamorig:RightHandRing1', 'mixamorig:RightHandRing2', 'mixamorig:RightHandRing3', 'mixamorig:RightHandRing4', 'mixamorig:RightHandPinky1', 'mixamorig:RightHandPinky2', 'mixamorig:RightHandPinky3', 'mixamorig:RightHandPinky4', 'mixamorig:LeftShoulder', 'mixamorig:LeftArm', 'mixamorig:LeftForeArm', 'mixamorig:LeftHand', 'mixamorig:LeftHandThumb1', 'mixamorig:LeftHandThumb2', 'mixamorig:LeftHandThumb3', 'mixamorig:LeftHandThumb4', 'mixamorig:LeftHandIndex1', 'mixamorig:LeftHandIndex2', 'mixamorig:LeftHandIndex3', 'mixamorig:LeftHandIndex4', 'mixamorig:LeftHandMiddle1', 'mixamorig:LeftHandMiddle2', 'mixamorig:LeftHandMiddle3', 'mixamorig:LeftHandMiddle4', 'mixamorig:LeftHandRing1', 'mixamorig:LeftHandRing2', 'mixamorig:LeftHandRing3', 'mixamorig:LeftHandRing4', 'mixamorig:LeftHandPinky1', 'mixamorig:LeftHandPinky2', 'mixamorig:LeftHandPinky3', 'mixamorig:LeftHandPinky4', 'mixamorig:RightUpLeg', 'mixamorig:RightLeg', 'mixamorig:RightFoot', 'mixamorig:RightToeBase', 'mixamorig:RightToe_End', 'mixamorig:LeftUpLeg', 'mixamorig:LeftLeg', 'mixamorig:LeftFoot', 'mixamorig:LeftToeBase', 'mixamorig:LeftToe_End']), ('parent_indices', {'arr': array([-1,  0,  1,  2,  3,  4,  5,  3,  7,  8,  9, 10, 11, 12, 13, 10, 15,\n",
      "       16, 17, 10, 19, 20, 21, 10, 23, 24, 25, 10, 27, 28, 29,  3, 31, 32,\n",
      "       33, 34, 35, 36, 37, 34, 39, 40, 41, 34, 43, 44, 45, 34, 47, 48, 49,\n",
      "       34, 51, 52, 53,  0, 55, 56, 57, 58,  0, 60, 61, 62, 63]), 'context': {'dtype': 'int64'}}), ('local_translation', {'arr': array([[ 5.22845793e+00,  1.01496666e+02,  8.27225571e+01],\n",
      "       [ 0.00000000e+00,  1.01823997e+01,  1.42108547e-14],\n",
      "       [ 0.00000000e+00,  1.00026999e+01,  0.00000000e+00],\n",
      "       [ 0.00000000e+00,  9.32209969e+00, -1.42108547e-14],\n",
      "       [ 0.00000000e+00,  1.68652992e+01,  0.00000000e+00],\n",
      "       [-8.88178420e-16,  9.34189987e+00,  2.84100008e+00],\n",
      "       [ 4.44089210e-16,  2.09627991e+01,  1.01229000e+01],\n",
      "       [-4.57000017e+00,  1.11957998e+01, -8.06599975e-01],\n",
      "       [ 0.00000000e+00,  1.08381996e+01, -2.84217094e-14],\n",
      "       [ 7.10542736e-15,  2.78414993e+01,  0.00000000e+00],\n",
      "       [ 1.42108547e-14,  2.83288002e+01,  0.00000000e+00],\n",
      "       [ 2.68190002e+00,  2.46479988e+00,  1.57400000e+00],\n",
      "       [ 3.55271368e-15,  4.18900013e+00,  0.00000000e+00],\n",
      "       [ 3.55271368e-15,  3.41630006e+00,  1.42108547e-14],\n",
      "       [ 0.00000000e+00,  2.57500005e+00,  0.00000000e+00],\n",
      "       [ 2.25979996e+00,  9.10830021e+00,  5.17899990e-01],\n",
      "       [-1.42108547e-14,  3.70000005e+00,  0.00000000e+00],\n",
      "       [ 0.00000000e+00,  2.84999990e+00,  0.00000000e+00],\n",
      "       [ 7.10542736e-15,  2.77220011e+00,  0.00000000e+00],\n",
      "       [-7.10542736e-15,  9.53250027e+00,  0.00000000e+00],\n",
      "       [ 0.00000000e+00,  3.70000005e+00, -1.42108547e-14],\n",
      "       [ 0.00000000e+00,  2.95000005e+00,  0.00000000e+00],\n",
      "       [-7.10542736e-15,  2.94659996e+00,  0.00000000e+00],\n",
      "       [-1.86510003e+00,  9.10359955e+00,  4.30999994e-02],\n",
      "       [ 0.00000000e+00,  3.37930012e+00,  0.00000000e+00],\n",
      "       [-1.42108547e-14,  2.88969994e+00,  0.00000000e+00],\n",
      "       [ 0.00000000e+00,  2.63879991e+00,  0.00000000e+00],\n",
      "       [-3.80629992e+00,  8.07670021e+00,  4.86699998e-01],\n",
      "       [ 0.00000000e+00,  3.59999990e+00,  0.00000000e+00],\n",
      "       [ 0.00000000e+00,  2.09999990e+00,  1.42108547e-14],\n",
      "       [ 7.10542736e-15,  2.11579990e+00,  0.00000000e+00],\n",
      "       [ 4.57040024e+00,  1.11955996e+01, -8.06599975e-01],\n",
      "       [ 2.13162821e-14,  1.08376999e+01,  5.68434189e-14],\n",
      "       [ 1.42108547e-14,  2.78414993e+01,  7.10542736e-15],\n",
      "       [ 1.42108547e-14,  2.83288002e+01,  7.10542736e-15],\n",
      "       [-2.68169999e+00,  2.46609998e+00,  1.57620001e+00],\n",
      "       [ 0.00000000e+00,  4.18709993e+00, -1.42108547e-14],\n",
      "       [-7.10542736e-15,  3.41840005e+00,  0.00000000e+00],\n",
      "       [ 0.00000000e+00,  2.58060002e+00,  0.00000000e+00],\n",
      "       [-2.25990009e+00,  9.10929966e+00,  5.18000007e-01],\n",
      "       [ 3.55271368e-15,  3.70000005e+00,  1.42108547e-14],\n",
      "       [ 0.00000000e+00,  2.84999990e+00,  0.00000000e+00],\n",
      "       [ 0.00000000e+00,  2.77489996e+00,  0.00000000e+00],\n",
      "       [-3.55271368e-15,  9.53339958e+00,  0.00000000e+00],\n",
      "       [-3.55271368e-15,  3.70000005e+00,  7.10542736e-15],\n",
      "       [ 7.10542736e-15,  2.95000005e+00,  1.06581410e-14],\n",
      "       [-7.10542736e-15,  2.95289993e+00, -3.55271368e-15],\n",
      "       [ 1.86510003e+00,  9.10449982e+00,  4.30000015e-02],\n",
      "       [-3.55271368e-15,  3.15000010e+00,  0.00000000e+00],\n",
      "       [ 0.00000000e+00,  2.95000005e+00,  0.00000000e+00],\n",
      "       [ 0.00000000e+00,  2.64429998e+00, -1.06581410e-14],\n",
      "       [ 3.80629992e+00,  8.07779980e+00,  4.86900002e-01],\n",
      "       [ 0.00000000e+00,  3.59999990e+00,  1.42108547e-14],\n",
      "       [ 0.00000000e+00,  2.09999990e+00,  3.55271368e-15],\n",
      "       [ 7.10542736e-15,  2.12549996e+00, -3.55271368e-15],\n",
      "       [-8.20779991e+00, -6.77180004e+00, -1.51220000e+00],\n",
      "       [ 0.00000000e+00,  4.43714981e+01,  1.42108547e-14],\n",
      "       [ 0.00000000e+00,  4.45278015e+01, -3.55271368e-15],\n",
      "       [ 0.00000000e+00,  1.38169003e+01,  0.00000000e+00],\n",
      "       [ 1.77635684e-15,  9.27810001e+00,  0.00000000e+00],\n",
      "       [ 8.20779991e+00, -6.77180004e+00, -1.51220000e+00],\n",
      "       [ 0.00000000e+00,  4.43713989e+01,  0.00000000e+00],\n",
      "       [-8.88178420e-16,  4.45278015e+01,  0.00000000e+00],\n",
      "       [-8.88178420e-16,  1.38169003e+01,  7.10542736e-15],\n",
      "       [ 0.00000000e+00,  9.27810001e+00,  8.88178420e-16]], dtype=float32), 'context': {'dtype': 'float32'}})])\n"
     ]
    }
   ],
   "source": [
    "print(motion['skeleton_tree'])\n",
    "'''\n",
    "OrderedDict([('node_names', ['mixamorig:Hips', \n",
    "'mixamorig:Spine', 'mixamorig:Spine1', 'mixamorig:Spine2', \n",
    "'mixamorig:Neck', 'mixamorig:Head', 'mixamorig:HeadTop_End', \n",
    "'mixamorig:RightShoulder', 'mixamorig:RightArm', 'mixamorig:RightForeArm', \n",
    "'mixamorig:RightHand', 'mixamorig:RightHandThumb1', 'mixamorig:RightHandThumb2', 'mixamorig:RightHandThumb3', 'mixamorig:RightHandThumb4', 'mixamorig:RightHandIndex1', 'mixamorig:RightHandIndex2', 'mixamorig:RightHandIndex3', 'mixamorig:RightHandIndex4', \n",
    "'mixamorig:RightHandMiddle1', 'mixamorig:RightHandMiddle2', 'mixamorig:RightHandMiddle3', 'mixamorig:RightHandMiddle4', 'mixamorig:RightHandRing1', 'mixamorig:RightHandRing2', 'mixamorig:RightHandRing3', 'mixamorig:RightHandRing4', 'mixamorig:RightHandPinky1', 'mixamorig:RightHandPinky2', 'mixamorig:RightHandPinky3', 'mixamorig:RightHandPinky4', \n",
    "'mixamorig:LeftShoulder', 'mixamorig:LeftArm', 'mixamorig:LeftForeArm', \n",
    "'mixamorig:LeftHand', 'mixamorig:LeftHandThumb1', 'mixamorig:LeftHandThumb2', 'mixamorig:LeftHandThumb3', 'mixamorig:LeftHandThumb4', 'mixamorig:LeftHandIndex1', 'mixamorig:LeftHandIndex2', 'mixamorig:LeftHandIndex3', 'mixamorig:LeftHandIndex4', 'mixamorig:LeftHandMiddle1', 'mixamorig:LeftHandMiddle2', 'mixamorig:LeftHandMiddle3', 'mixamorig:LeftHandMiddle4', 'mixamorig:LeftHandRing1', 'mixamorig:LeftHandRing2', 'mixamorig:LeftHandRing3', 'mixamorig:LeftHandRing4', 'mixamorig:LeftHandPinky1', 'mixamorig:LeftHandPinky2', 'mixamorig:LeftHandPinky3', 'mixamorig:LeftHandPinky4', \n",
    "'mixamorig:RightUpLeg', 'mixamorig:RightLeg', 'mixamorig:RightFoot', 'mixamorig:RightToeBase', 'mixamorig:RightToe_End', \n",
    "'mixamorig:LeftUpLeg', 'mixamorig:LeftLeg', 'mixamorig:LeftFoot', 'mixamorig:LeftToeBase', 'mixamorig:LeftToe_End'])\n",
    "'''"
   ]
  },
  {
   "cell_type": "code",
   "execution_count": null,
   "id": "9df1b0ba",
   "metadata": {},
   "outputs": [],
   "source": []
  }
 ],
 "metadata": {
  "kernelspec": {
   "display_name": "Python 3 (ipykernel)",
   "language": "python",
   "name": "python3"
  },
  "language_info": {
   "codemirror_mode": {
    "name": "ipython",
    "version": 3
   },
   "file_extension": ".py",
   "mimetype": "text/x-python",
   "name": "python",
   "nbconvert_exporter": "python",
   "pygments_lexer": "ipython3",
   "version": "3.7.12"
  }
 },
 "nbformat": 4,
 "nbformat_minor": 5
}
