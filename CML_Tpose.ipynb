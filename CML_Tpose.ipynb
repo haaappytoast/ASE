{
 "cells": [
  {
   "cell_type": "markdown",
   "id": "8699cdc3",
   "metadata": {},
   "source": [
    "### CML tpose"
   ]
  },
  {
   "cell_type": "code",
   "execution_count": 16,
   "id": "6abc26ee",
   "metadata": {},
   "outputs": [],
   "source": [
    "import os\n",
    "import numpy as np\n",
    "from ase.poselib.poselib.skeleton.skeleton3d import SkeletonTree\n",
    "\n",
    "path = \"/home/vml/deepmm_ws/ASE/ase/poselib/data\"\n",
    "# ybot npy file\n",
    "cml_npy_file = \"/unity/CMLAvatar@TposeMotion.npy\"\n",
    "cml_pose = np.load(path + cml_npy_file, allow_pickle=True).item()"
   ]
  },
  {
   "cell_type": "code",
   "execution_count": 17,
   "id": "dae7771c",
   "metadata": {},
   "outputs": [
    {
     "name": "stdout",
     "output_type": "stream",
     "text": [
      "odict_keys(['rotation', 'root_translation', 'global_velocity', 'global_angular_velocity', 'skeleton_tree', 'is_local', 'fps', '__name__'])\n"
     ]
    }
   ],
   "source": [
    "print(cml_pose.keys())"
   ]
  },
  {
   "cell_type": "code",
   "execution_count": 18,
   "id": "6da467d7",
   "metadata": {},
   "outputs": [],
   "source": [
    "import collections\n",
    "cml_tpose = collections.OrderedDict()"
   ]
  },
  {
   "cell_type": "code",
   "execution_count": 19,
   "id": "64ac0a2a",
   "metadata": {},
   "outputs": [],
   "source": [
    "cml_tpose['rotation'] = {'arr': cml_pose['rotation']['arr'][0], \\\n",
    "                          'context' : cml_pose['rotation']['context']}\n",
    "cml_tpose['root_translation'] = {'arr': cml_pose['root_translation']['arr'][0], \\\n",
    "                                  'context' : cml_pose['root_translation']['context']}\n",
    "\n",
    "cml_tpose['skeleton_tree'] = cml_pose['skeleton_tree']\n",
    "cml_tpose['is_local'] = cml_pose['is_local']\n",
    "cml_tpose['__name__'] = 'SkeletonState'\n"
   ]
  },
  {
   "cell_type": "code",
   "execution_count": 20,
   "id": "13fe3bf7",
   "metadata": {},
   "outputs": [],
   "source": [
    "path = \"/home/vml/deepmm_ws/ASE/ase/poselib/data/\"\n",
    "np.save(path+\"/unity/cml_tpose\", cml_tpose)"
   ]
  },
  {
   "cell_type": "code",
   "execution_count": null,
   "id": "4cc6ec50",
   "metadata": {},
   "outputs": [],
   "source": []
  }
 ],
 "metadata": {
  "kernelspec": {
   "display_name": "Python 3 (ipykernel)",
   "language": "python",
   "name": "python3"
  },
  "language_info": {
   "codemirror_mode": {
    "name": "ipython",
    "version": 3
   },
   "file_extension": ".py",
   "mimetype": "text/x-python",
   "name": "python",
   "nbconvert_exporter": "python",
   "pygments_lexer": "ipython3",
   "version": "3.11.3"
  }
 },
 "nbformat": 4,
 "nbformat_minor": 5
}
