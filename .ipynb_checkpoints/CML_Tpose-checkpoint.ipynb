{
 "cells": [
  {
   "cell_type": "markdown",
   "id": "8699cdc3",
   "metadata": {},
   "source": [
    "### CML tpose"
   ]
  },
  {
   "cell_type": "code",
   "execution_count": 1,
   "id": "1ff9ba41",
   "metadata": {},
   "outputs": [
    {
     "name": "stderr",
     "output_type": "stream",
     "text": [
      "2023-08-23 20:44:38,095 - INFO - logger - logger initialized\n"
     ]
    },
    {
     "name": "stdout",
     "output_type": "stream",
     "text": [
      "Error: FBX library failed to load - importing FBX data will not succeed. Message: /home/vml/anaconda3/lib/python3.11/site-packages/fbx.cpython-311-x86_64-linux-gnu.so: undefined symbol: xmlFree\n",
      "FBX tools must be installed from https://help.autodesk.com/view/FBX/2020/ENU/?guid=FBX_Developer_Help_scripting_with_python_fbx_installing_python_fbx_html\n"
     ]
    }
   ],
   "source": [
    "import os\n",
    "import numpy as np\n",
    "from ase.poselib.poselib.skeleton.skeleton3d import SkeletonTree\n",
    "\n",
    "path = \"/home/vml/deepmm_ws/ASE/ase/poselib/data\"\n",
    "# ybot npy file\n",
    "cml_npy_file = \"/unity/CMLAvatar@Unity.npy\"\n",
    "cml_pose = np.load(path + cml_npy_file, allow_pickle=True).item()"
   ]
  },
  {
   "cell_type": "code",
   "execution_count": 3,
   "id": "de04e43c",
   "metadata": {},
   "outputs": [
    {
     "name": "stdout",
     "output_type": "stream",
     "text": [
      "odict_keys(['rotation', 'root_translation', 'global_velocity', 'global_angular_velocity', 'skeleton_tree', 'is_local', 'fps', '__name__'])\n"
     ]
    }
   ],
   "source": [
    "print(cml_pose.keys())"
   ]
  },
  {
   "cell_type": "code",
   "execution_count": null,
   "id": "3a47ce3e",
   "metadata": {},
   "outputs": [],
   "source": [
    "import collections\n",
    "cml_tpose = collections.OrderedDict()"
   ]
  },
  {
   "cell_type": "code",
   "execution_count": 5,
   "id": "5db22736",
   "metadata": {},
   "outputs": [
    {
     "name": "stdout",
     "output_type": "stream",
     "text": [
      "(15, 4)\n",
      "dict_keys(['arr', 'context'])\n",
      "dict_keys(['arr', 'context'])\n",
      "odict_keys(['node_names', 'parent_indices', 'local_translation'])\n",
      "(3,)\n",
      "SkeletonMotion\n"
     ]
    }
   ],
   "source": [
    "cml_tpose['rotation'] = {'arr': cml_pose['rotation']['arr'][0], \\\n",
    "                          'context' : cml_pose['rotation']['context']}\n",
    "cml_tpose['root_translation'] = {'arr': cml_pose['root_translation']['arr'][0], \\\n",
    "                                  'context' : cml_pose['root_translation']['context']}\n",
    "\n",
    "cml_tpose['skeleton_tree'] = cml_pose['skeleton_tree']\n",
    "cml_tpose['is_local'] = cml_pose['is_local']\n",
    "cml_tpose['__name__'] = 'SkeletonState'\n"
   ]
  },
  {
   "cell_type": "code",
   "execution_count": null,
   "id": "13fe3bf7",
   "metadata": {},
   "outputs": [],
   "source": []
  }
 ],
 "metadata": {
  "kernelspec": {
   "display_name": "Python 3 (ipykernel)",
   "language": "python",
   "name": "python3"
  },
  "language_info": {
   "codemirror_mode": {
    "name": "ipython",
    "version": 3
   },
   "file_extension": ".py",
   "mimetype": "text/x-python",
   "name": "python",
   "nbconvert_exporter": "python",
   "pygments_lexer": "ipython3",
   "version": "3.11.3"
  }
 },
 "nbformat": 4,
 "nbformat_minor": 5
}
